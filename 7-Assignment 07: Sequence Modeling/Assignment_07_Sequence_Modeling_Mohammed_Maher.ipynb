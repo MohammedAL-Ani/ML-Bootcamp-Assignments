{
  "nbformat": 4,
  "nbformat_minor": 0,
  "metadata": {
    "colab": {
      "provenance": [],
      "toc_visible": true
    },
    "kernelspec": {
      "name": "python3",
      "display_name": "Python 3"
    },
    "language_info": {
      "name": "python"
    },
    "accelerator": "GPU"
  },
  "cells": [
    {
      "cell_type": "markdown",
      "source": [
        "#Assignment 07: Sequence Modeling\n",
        "\n",
        "This Week's assignment is to train sequence models on the `Emoji Data` to classify the sentences emotion. You'll be creating models that takes in a sentence and predicts the appropriate emoji that describes the sentiment.\n",
        "\n",
        "Before starting copy this file and work on your own copy by following the below steps: <br>\n",
        "`File > Save Copy in Drive`. Then add your name to the file (e.g., Assignment 07: Sequence Modeling - Zahraa Dhafer).\n",
        "\n",
        "**DATASET**\n",
        "The dataset consists of two csv files, a training file with 16k rows and a testing file with 2k rows, each row has 3 columns, the sentence, the emotion as text (meant to provide description to the emoji and not to be used in training/testing) and the emoji symbol (e.g. 😄, 😡, 😍).<br><br>\n",
        "**Submission Deadline: Thursday, 3/3/2022 at 3:00 PM**\n",
        "\n",
        "**Requirements:**\n",
        "1. Set TensorFlow's random seed to 42.\n",
        "2. Import all necessary libraries for the sequence modeling project.\n",
        "3. Download the dataset (the link is provided below).\n",
        "4. Read data from CSV files and split it into inputs and targets (no need to do train_test_split as the data is already split).\n",
        "**Note**: Read both Train and Test files\n",
        "5. Tokenize and pad the text, use a vocabulary size of 10,000 and maximum sequence length of 64.\n",
        "6. Do the appropriate operations on the targets to prepare them for training.\n",
        "7. Define the sequential models, make sure to use RNN,LSTM,GRU and DNN with Embedding layers using Bidirectional LSTM if necessary. The training and validation accuracy should be at least 94% and 88% respectively.\n",
        "8. Use Adam optimizer and the appropriate loss function and metrics to compile the model.\n",
        "9. Use ModelCheckpoint callback to save the models at the epoch with the best validation accuracy, each model file should have your name (e.g. for Zahraa Dhafer, the model's file name would be \"LSTM_Zahraa_D.h5). Make sure to download the model file as it will be a part of your assignment submission. <br>[ModelCheckpoint documentation](https://www.tensorflow.org/api_docs/python/tf/keras/callbacks/ModelCheckpoint)\n",
        "10. Plot the models metrics.\n",
        "\n",
        "\n",
        "\n",
        "\n",
        "**HINTS:**\n",
        "Set the new hyperparameters like vocabulary size, input length (i.e. max sequence length) in a separate cell after the import cell in your notebook (failing to do so will affect your style score)\n",
        "\n",
        "**Note:** To get the best performance from the model, manually tune the hyperparameters of each model. \n",
        "\n",
        "Find relevant links below:<br>\n",
        "\n",
        "[Assignment Colab File](https://colab.research.google.com/drive/129V6jlMgzfOWi033t7xIgdn0ZKRvnjP-?usp=sharing)<br>\n",
        "[Dataset](https://drive.google.com/drive/folders/1i7LmIH7sJHSARAMXgznBqXZ82tzMhYiL?usp=sharing)\n",
        "\n",
        "[Submission Form](https://docs.google.com/forms/d/e/1FAIpQLSff0OH5akQLPw7LArOYwXwVvJVHtQSgKGnfxlpI8OL-NBUrcg/viewform?usp=pp_url)<br>\n",
        "\n",
        "\n",
        "Good luck and feel free to ask any questions in the or on the Questions channel."
      ],
      "metadata": {
        "id": "AU78WMPocdFw"
      }
    },
    {
      "cell_type": "code",
      "source": [
        "from google.colab import drive\n",
        "drive.mount('/content/drive')"
      ],
      "metadata": {
        "colab": {
          "base_uri": "https://localhost:8080/"
        },
        "id": "2VQP_vqYqGac",
        "outputId": "ca3bb41a-4f80-49c6-d057-13d290ccb477"
      },
      "execution_count": null,
      "outputs": [
        {
          "output_type": "stream",
          "name": "stdout",
          "text": [
            "Mounted at /content/drive\n"
          ]
        }
      ]
    },
    {
      "cell_type": "markdown",
      "source": [
        "# 1- Import all necessary libraries for the sequence modeling project"
      ],
      "metadata": {
        "id": "NY3o4kreqOLG"
      }
    },
    {
      "cell_type": "code",
      "source": [
        "# write your code below\n",
        "import pandas as pd\n",
        "import tensorflow as tf\n",
        "import numpy as np\n",
        "import matplotlib.pyplot as plt\n",
        "from sklearn import preprocessing,metrics\n",
        "\n",
        "import string\n",
        "import re\n",
        "import seaborn as sn\n",
        "import glob"
      ],
      "metadata": {
        "id": "0nYUDKQBic7L"
      },
      "execution_count": null,
      "outputs": []
    },
    {
      "cell_type": "code",
      "source": [
        "tf.random.set_seed(42)"
      ],
      "metadata": {
        "id": "fyuqOADWMb2F"
      },
      "execution_count": null,
      "outputs": []
    },
    {
      "cell_type": "code",
      "source": [],
      "metadata": {
        "id": "vz6bhq7lJSZ2"
      },
      "execution_count": null,
      "outputs": []
    },
    {
      "cell_type": "markdown",
      "source": [
        "# 2- Download the dataset"
      ],
      "metadata": {
        "id": "dG-8I4sUqatO"
      }
    },
    {
      "cell_type": "code",
      "source": [
        "# write your code below\n",
        "!gdown --id 1XdXqB-h7TQOxeX85IXf4pTQIAdryD0Mh\n",
        "!gdown --id 1-yhsvHHsGJwpCTPpg5aAS4u_3R0Hh2Qs"
      ],
      "metadata": {
        "id": "TPmmLNyHaq8a",
        "colab": {
          "base_uri": "https://localhost:8080/"
        },
        "outputId": "4d753841-1b1a-4e26-c44f-4afe322ced15"
      },
      "execution_count": null,
      "outputs": [
        {
          "output_type": "stream",
          "name": "stdout",
          "text": [
            "Downloading...\n",
            "From: https://drive.google.com/uc?id=1XdXqB-h7TQOxeX85IXf4pTQIAdryD0Mh\n",
            "To: /content/train.csv\n",
            "100% 1.74M/1.74M [00:00<00:00, 157MB/s]\n",
            "Downloading...\n",
            "From: https://drive.google.com/uc?id=1-yhsvHHsGJwpCTPpg5aAS4u_3R0Hh2Qs\n",
            "To: /content/test.csv\n",
            "100% 217k/217k [00:00<00:00, 87.2MB/s]\n"
          ]
        }
      ]
    },
    {
      "cell_type": "markdown",
      "source": [
        "# 3- Read data from CSV files and split it into inputs and targets \n",
        "\n",
        "**Note**: no need to do train_test_split as the data is already split"
      ],
      "metadata": {
        "id": "MLA4G5gFqjOz"
      }
    },
    {
      "cell_type": "code",
      "source": [
        "# write your code below\n",
        "data_train=pd.read_csv('/content/train.csv')\n",
        "data_test=pd.read_csv('/content/test.csv')\n"
      ],
      "metadata": {
        "id": "U5jS8nESqtmf"
      },
      "execution_count": null,
      "outputs": []
    },
    {
      "cell_type": "code",
      "source": [
        "emo=data_train.emoji\n",
        "output_uniqe=set(emo)\n",
        "output_index=[]\n",
        "for index in range (len(output_uniqe)):\n",
        "  output_index.append(index)\n",
        "print(output_index)\n",
        "print(output_uniqe)\n",
        "\n",
        "label_indx_output=dict(zip(output_uniqe,output_index))\n",
        "indx_label_output=dict(zip(output_index,output_uniqe))\n",
        "print(label_indx_output)\n",
        "print(indx_label_output)\n",
        "\n",
        "data_train.emoji=data_train.emoji.map(label_indx_output)\n",
        "print(data_train)\n",
        "data_test.emoji=data_test.emoji.map(label_indx_output)\n",
        "print(data_test)"
      ],
      "metadata": {
        "colab": {
          "base_uri": "https://localhost:8080/"
        },
        "id": "NfilBM7mET4J",
        "outputId": "248eb255-36f2-47a4-af21-422ebaddfe43"
      },
      "execution_count": null,
      "outputs": [
        {
          "output_type": "stream",
          "name": "stdout",
          "text": [
            "[0, 1, 2, 3, 4, 5]\n",
            "{'😍', '😲', '😄', '😢', '😡', '😨'}\n",
            "{'😍': 0, '😲': 1, '😄': 2, '😢': 3, '😡': 4, '😨': 5}\n",
            "{0: '😍', 1: '😲', 2: '😄', 3: '😢', 4: '😡', 5: '😨'}\n",
            "                                                    text  emotion  emoji\n",
            "0                                i didnt feel humiliated  sadness      3\n",
            "1      i can go from feeling so hopeless to so damned...  sadness      3\n",
            "2       im grabbing a minute to post i feel greedy wrong    anger      4\n",
            "3      i am ever feeling nostalgic about the fireplac...     love      0\n",
            "4                                   i am feeling grouchy    anger      4\n",
            "...                                                  ...      ...    ...\n",
            "15995  i just had a very brief time in the beanbag an...  sadness      3\n",
            "15996  i am now turning and i feel pathetic that i am...  sadness      3\n",
            "15997                     i feel strong and good overall      joy      2\n",
            "15998  i feel like this was such a rude comment and i...    anger      4\n",
            "15999  i know a lot but i feel so stupid because i ca...  sadness      3\n",
            "\n",
            "[16000 rows x 3 columns]\n",
            "                                                   text  emotion  emoji\n",
            "0     im feeling rather rotten so im not very ambiti...  sadness      3\n",
            "1             im updating my blog because i feel shitty  sadness      3\n",
            "2     i never make her separate from me because i do...  sadness      3\n",
            "3     i left with my bouquet of red and yellow tulip...      joy      2\n",
            "4       i was feeling a little vain when i did this one  sadness      3\n",
            "...                                                 ...      ...    ...\n",
            "1995  i just keep feeling like someone is being unki...    anger      4\n",
            "1996  im feeling a little cranky negative after this...    anger      4\n",
            "1997  i feel that i am useful to my people and that ...      joy      2\n",
            "1998  im feeling more comfortable with derby i feel ...      joy      2\n",
            "1999  i feel all weird when i have to meet w people ...     fear      5\n",
            "\n",
            "[2000 rows x 3 columns]\n"
          ]
        }
      ]
    },
    {
      "cell_type": "code",
      "source": [
        "datasets = [data_train, data_test]\n",
        "\n",
        "for dataset in datasets:\n",
        "  dataset = dataset.drop('emotion', axis=1,inplace=True)"
      ],
      "metadata": {
        "id": "uy6vDKP8FbPP"
      },
      "execution_count": null,
      "outputs": []
    },
    {
      "cell_type": "code",
      "source": [
        "print(np.bincount(data_train.emoji))\n",
        "print(indx_label_output)"
      ],
      "metadata": {
        "colab": {
          "base_uri": "https://localhost:8080/"
        },
        "id": "vfoiHN0vG1pQ",
        "outputId": "61834d26-7add-4a11-92f7-6768afbcd98d"
      },
      "execution_count": null,
      "outputs": [
        {
          "output_type": "stream",
          "name": "stdout",
          "text": [
            "[1304  572 5362 4666 2159 1937]\n",
            "{0: '😍', 1: '😲', 2: '😄', 3: '😢', 4: '😡', 5: '😨'}\n"
          ]
        }
      ]
    },
    {
      "cell_type": "code",
      "source": [
        "data_train[data_train.emoji==3]"
      ],
      "metadata": {
        "colab": {
          "base_uri": "https://localhost:8080/",
          "height": 423
        },
        "id": "TPCNfwP0J528",
        "outputId": "0ae89b70-7297-4b7e-cd1b-c5477ce08430"
      },
      "execution_count": null,
      "outputs": [
        {
          "output_type": "execute_result",
          "data": {
            "text/html": [
              "\n",
              "  <div id=\"df-209cf9c9-a6bb-4395-a1e3-c31ffd05e71a\">\n",
              "    <div class=\"colab-df-container\">\n",
              "      <div>\n",
              "<style scoped>\n",
              "    .dataframe tbody tr th:only-of-type {\n",
              "        vertical-align: middle;\n",
              "    }\n",
              "\n",
              "    .dataframe tbody tr th {\n",
              "        vertical-align: top;\n",
              "    }\n",
              "\n",
              "    .dataframe thead th {\n",
              "        text-align: right;\n",
              "    }\n",
              "</style>\n",
              "<table border=\"1\" class=\"dataframe\">\n",
              "  <thead>\n",
              "    <tr style=\"text-align: right;\">\n",
              "      <th></th>\n",
              "      <th>text</th>\n",
              "      <th>emoji</th>\n",
              "    </tr>\n",
              "  </thead>\n",
              "  <tbody>\n",
              "    <tr>\n",
              "      <th>0</th>\n",
              "      <td>i didnt feel humiliated</td>\n",
              "      <td>3</td>\n",
              "    </tr>\n",
              "    <tr>\n",
              "      <th>1</th>\n",
              "      <td>i can go from feeling so hopeless to so damned...</td>\n",
              "      <td>3</td>\n",
              "    </tr>\n",
              "    <tr>\n",
              "      <th>5</th>\n",
              "      <td>ive been feeling a little burdened lately wasn...</td>\n",
              "      <td>3</td>\n",
              "    </tr>\n",
              "    <tr>\n",
              "      <th>10</th>\n",
              "      <td>i feel like i have to make the suffering i m s...</td>\n",
              "      <td>3</td>\n",
              "    </tr>\n",
              "    <tr>\n",
              "      <th>13</th>\n",
              "      <td>i feel low energy i m just thirsty</td>\n",
              "      <td>3</td>\n",
              "    </tr>\n",
              "    <tr>\n",
              "      <th>...</th>\n",
              "      <td>...</td>\n",
              "      <td>...</td>\n",
              "    </tr>\n",
              "    <tr>\n",
              "      <th>15988</th>\n",
              "      <td>i feel pathetic because im still single</td>\n",
              "      <td>3</td>\n",
              "    </tr>\n",
              "    <tr>\n",
              "      <th>15991</th>\n",
              "      <td>i have wanted to perhaps convey my feelings of...</td>\n",
              "      <td>3</td>\n",
              "    </tr>\n",
              "    <tr>\n",
              "      <th>15995</th>\n",
              "      <td>i just had a very brief time in the beanbag an...</td>\n",
              "      <td>3</td>\n",
              "    </tr>\n",
              "    <tr>\n",
              "      <th>15996</th>\n",
              "      <td>i am now turning and i feel pathetic that i am...</td>\n",
              "      <td>3</td>\n",
              "    </tr>\n",
              "    <tr>\n",
              "      <th>15999</th>\n",
              "      <td>i know a lot but i feel so stupid because i ca...</td>\n",
              "      <td>3</td>\n",
              "    </tr>\n",
              "  </tbody>\n",
              "</table>\n",
              "<p>4666 rows × 2 columns</p>\n",
              "</div>\n",
              "      <button class=\"colab-df-convert\" onclick=\"convertToInteractive('df-209cf9c9-a6bb-4395-a1e3-c31ffd05e71a')\"\n",
              "              title=\"Convert this dataframe to an interactive table.\"\n",
              "              style=\"display:none;\">\n",
              "        \n",
              "  <svg xmlns=\"http://www.w3.org/2000/svg\" height=\"24px\"viewBox=\"0 0 24 24\"\n",
              "       width=\"24px\">\n",
              "    <path d=\"M0 0h24v24H0V0z\" fill=\"none\"/>\n",
              "    <path d=\"M18.56 5.44l.94 2.06.94-2.06 2.06-.94-2.06-.94-.94-2.06-.94 2.06-2.06.94zm-11 1L8.5 8.5l.94-2.06 2.06-.94-2.06-.94L8.5 2.5l-.94 2.06-2.06.94zm10 10l.94 2.06.94-2.06 2.06-.94-2.06-.94-.94-2.06-.94 2.06-2.06.94z\"/><path d=\"M17.41 7.96l-1.37-1.37c-.4-.4-.92-.59-1.43-.59-.52 0-1.04.2-1.43.59L10.3 9.45l-7.72 7.72c-.78.78-.78 2.05 0 2.83L4 21.41c.39.39.9.59 1.41.59.51 0 1.02-.2 1.41-.59l7.78-7.78 2.81-2.81c.8-.78.8-2.07 0-2.86zM5.41 20L4 18.59l7.72-7.72 1.47 1.35L5.41 20z\"/>\n",
              "  </svg>\n",
              "      </button>\n",
              "      \n",
              "  <style>\n",
              "    .colab-df-container {\n",
              "      display:flex;\n",
              "      flex-wrap:wrap;\n",
              "      gap: 12px;\n",
              "    }\n",
              "\n",
              "    .colab-df-convert {\n",
              "      background-color: #E8F0FE;\n",
              "      border: none;\n",
              "      border-radius: 50%;\n",
              "      cursor: pointer;\n",
              "      display: none;\n",
              "      fill: #1967D2;\n",
              "      height: 32px;\n",
              "      padding: 0 0 0 0;\n",
              "      width: 32px;\n",
              "    }\n",
              "\n",
              "    .colab-df-convert:hover {\n",
              "      background-color: #E2EBFA;\n",
              "      box-shadow: 0px 1px 2px rgba(60, 64, 67, 0.3), 0px 1px 3px 1px rgba(60, 64, 67, 0.15);\n",
              "      fill: #174EA6;\n",
              "    }\n",
              "\n",
              "    [theme=dark] .colab-df-convert {\n",
              "      background-color: #3B4455;\n",
              "      fill: #D2E3FC;\n",
              "    }\n",
              "\n",
              "    [theme=dark] .colab-df-convert:hover {\n",
              "      background-color: #434B5C;\n",
              "      box-shadow: 0px 1px 3px 1px rgba(0, 0, 0, 0.15);\n",
              "      filter: drop-shadow(0px 1px 2px rgba(0, 0, 0, 0.3));\n",
              "      fill: #FFFFFF;\n",
              "    }\n",
              "  </style>\n",
              "\n",
              "      <script>\n",
              "        const buttonEl =\n",
              "          document.querySelector('#df-209cf9c9-a6bb-4395-a1e3-c31ffd05e71a button.colab-df-convert');\n",
              "        buttonEl.style.display =\n",
              "          google.colab.kernel.accessAllowed ? 'block' : 'none';\n",
              "\n",
              "        async function convertToInteractive(key) {\n",
              "          const element = document.querySelector('#df-209cf9c9-a6bb-4395-a1e3-c31ffd05e71a');\n",
              "          const dataTable =\n",
              "            await google.colab.kernel.invokeFunction('convertToInteractive',\n",
              "                                                     [key], {});\n",
              "          if (!dataTable) return;\n",
              "\n",
              "          const docLinkHtml = 'Like what you see? Visit the ' +\n",
              "            '<a target=\"_blank\" href=https://colab.research.google.com/notebooks/data_table.ipynb>data table notebook</a>'\n",
              "            + ' to learn more about interactive tables.';\n",
              "          element.innerHTML = '';\n",
              "          dataTable['output_type'] = 'display_data';\n",
              "          await google.colab.output.renderOutput(dataTable, element);\n",
              "          const docLink = document.createElement('div');\n",
              "          docLink.innerHTML = docLinkHtml;\n",
              "          element.appendChild(docLink);\n",
              "        }\n",
              "      </script>\n",
              "    </div>\n",
              "  </div>\n",
              "  "
            ],
            "text/plain": [
              "                                                    text  emoji\n",
              "0                                i didnt feel humiliated      3\n",
              "1      i can go from feeling so hopeless to so damned...      3\n",
              "5      ive been feeling a little burdened lately wasn...      3\n",
              "10     i feel like i have to make the suffering i m s...      3\n",
              "13                    i feel low energy i m just thirsty      3\n",
              "...                                                  ...    ...\n",
              "15988            i feel pathetic because im still single      3\n",
              "15991  i have wanted to perhaps convey my feelings of...      3\n",
              "15995  i just had a very brief time in the beanbag an...      3\n",
              "15996  i am now turning and i feel pathetic that i am...      3\n",
              "15999  i know a lot but i feel so stupid because i ca...      3\n",
              "\n",
              "[4666 rows x 2 columns]"
            ]
          },
          "metadata": {},
          "execution_count": 9
        }
      ]
    },
    {
      "cell_type": "code",
      "source": [
        "data_train.hist()\n",
        "\n"
      ],
      "metadata": {
        "colab": {
          "base_uri": "https://localhost:8080/",
          "height": 318
        },
        "id": "6Ay-tiIxF815",
        "outputId": "3ebe4123-782a-4cd8-feeb-268ee2b184fb"
      },
      "execution_count": null,
      "outputs": [
        {
          "output_type": "execute_result",
          "data": {
            "text/plain": [
              "array([[<matplotlib.axes._subplots.AxesSubplot object at 0x7fab14be9150>]],\n",
              "      dtype=object)"
            ]
          },
          "metadata": {},
          "execution_count": 10
        },
        {
          "output_type": "display_data",
          "data": {
            "image/png": "[encoded data removed]",
            "text/plain": [
              "<Figure size 432x288 with 1 Axes>"
            ]
          },
          "metadata": {
            "needs_background": "light"
          }
        }
      ]
    },
    {
      "cell_type": "code",
      "source": [
        "data_train\n"
      ],
      "metadata": {
        "colab": {
          "base_uri": "https://localhost:8080/",
          "height": 423
        },
        "id": "Z6ACLWtULktV",
        "outputId": "2a561bda-4407-4594-ddf3-73394bfbc3d8"
      },
      "execution_count": null,
      "outputs": [
        {
          "output_type": "execute_result",
          "data": {
            "text/html": [
              "\n",
              "  <div id=\"df-471a9625-0651-4e17-903b-0dd13e4a81be\">\n",
              "    <div class=\"colab-df-container\">\n",
              "      <div>\n",
              "<style scoped>\n",
              "    .dataframe tbody tr th:only-of-type {\n",
              "        vertical-align: middle;\n",
              "    }\n",
              "\n",
              "    .dataframe tbody tr th {\n",
              "        vertical-align: top;\n",
              "    }\n",
              "\n",
              "    .dataframe thead th {\n",
              "        text-align: right;\n",
              "    }\n",
              "</style>\n",
              "<table border=\"1\" class=\"dataframe\">\n",
              "  <thead>\n",
              "    <tr style=\"text-align: right;\">\n",
              "      <th></th>\n",
              "      <th>text</th>\n",
              "      <th>emoji</th>\n",
              "    </tr>\n",
              "  </thead>\n",
              "  <tbody>\n",
              "    <tr>\n",
              "      <th>0</th>\n",
              "      <td>i didnt feel humiliated</td>\n",
              "      <td>3</td>\n",
              "    </tr>\n",
              "    <tr>\n",
              "      <th>1</th>\n",
              "      <td>i can go from feeling so hopeless to so damned...</td>\n",
              "      <td>3</td>\n",
              "    </tr>\n",
              "    <tr>\n",
              "      <th>2</th>\n",
              "      <td>im grabbing a minute to post i feel greedy wrong</td>\n",
              "      <td>4</td>\n",
              "    </tr>\n",
              "    <tr>\n",
              "      <th>3</th>\n",
              "      <td>i am ever feeling nostalgic about the fireplac...</td>\n",
              "      <td>0</td>\n",
              "    </tr>\n",
              "    <tr>\n",
              "      <th>4</th>\n",
              "      <td>i am feeling grouchy</td>\n",
              "      <td>4</td>\n",
              "    </tr>\n",
              "    <tr>\n",
              "      <th>...</th>\n",
              "      <td>...</td>\n",
              "      <td>...</td>\n",
              "    </tr>\n",
              "    <tr>\n",
              "      <th>15995</th>\n",
              "      <td>i just had a very brief time in the beanbag an...</td>\n",
              "      <td>3</td>\n",
              "    </tr>\n",
              "    <tr>\n",
              "      <th>15996</th>\n",
              "      <td>i am now turning and i feel pathetic that i am...</td>\n",
              "      <td>3</td>\n",
              "    </tr>\n",
              "    <tr>\n",
              "      <th>15997</th>\n",
              "      <td>i feel strong and good overall</td>\n",
              "      <td>2</td>\n",
              "    </tr>\n",
              "    <tr>\n",
              "      <th>15998</th>\n",
              "      <td>i feel like this was such a rude comment and i...</td>\n",
              "      <td>4</td>\n",
              "    </tr>\n",
              "    <tr>\n",
              "      <th>15999</th>\n",
              "      <td>i know a lot but i feel so stupid because i ca...</td>\n",
              "      <td>3</td>\n",
              "    </tr>\n",
              "  </tbody>\n",
              "</table>\n",
              "<p>16000 rows × 2 columns</p>\n",
              "</div>\n",
              "      <button class=\"colab-df-convert\" onclick=\"convertToInteractive('df-471a9625-0651-4e17-903b-0dd13e4a81be')\"\n",
              "              title=\"Convert this dataframe to an interactive table.\"\n",
              "              style=\"display:none;\">\n",
              "        \n",
              "  <svg xmlns=\"http://www.w3.org/2000/svg\" height=\"24px\"viewBox=\"0 0 24 24\"\n",
              "       width=\"24px\">\n",
              "    <path d=\"M0 0h24v24H0V0z\" fill=\"none\"/>\n",
              "    <path d=\"M18.56 5.44l.94 2.06.94-2.06 2.06-.94-2.06-.94-.94-2.06-.94 2.06-2.06.94zm-11 1L8.5 8.5l.94-2.06 2.06-.94-2.06-.94L8.5 2.5l-.94 2.06-2.06.94zm10 10l.94 2.06.94-2.06 2.06-.94-2.06-.94-.94-2.06-.94 2.06-2.06.94z\"/><path d=\"M17.41 7.96l-1.37-1.37c-.4-.4-.92-.59-1.43-.59-.52 0-1.04.2-1.43.59L10.3 9.45l-7.72 7.72c-.78.78-.78 2.05 0 2.83L4 21.41c.39.39.9.59 1.41.59.51 0 1.02-.2 1.41-.59l7.78-7.78 2.81-2.81c.8-.78.8-2.07 0-2.86zM5.41 20L4 18.59l7.72-7.72 1.47 1.35L5.41 20z\"/>\n",
              "  </svg>\n",
              "      </button>\n",
              "      \n",
              "  <style>\n",
              "    .colab-df-container {\n",
              "      display:flex;\n",
              "      flex-wrap:wrap;\n",
              "      gap: 12px;\n",
              "    }\n",
              "\n",
              "    .colab-df-convert {\n",
              "      background-color: #E8F0FE;\n",
              "      border: none;\n",
              "      border-radius: 50%;\n",
              "      cursor: pointer;\n",
              "      display: none;\n",
              "      fill: #1967D2;\n",
              "      height: 32px;\n",
              "      padding: 0 0 0 0;\n",
              "      width: 32px;\n",
              "    }\n",
              "\n",
              "    .colab-df-convert:hover {\n",
              "      background-color: #E2EBFA;\n",
              "      box-shadow: 0px 1px 2px rgba(60, 64, 67, 0.3), 0px 1px 3px 1px rgba(60, 64, 67, 0.15);\n",
              "      fill: #174EA6;\n",
              "    }\n",
              "\n",
              "    [theme=dark] .colab-df-convert {\n",
              "      background-color: #3B4455;\n",
              "      fill: #D2E3FC;\n",
              "    }\n",
              "\n",
              "    [theme=dark] .colab-df-convert:hover {\n",
              "      background-color: #434B5C;\n",
              "      box-shadow: 0px 1px 3px 1px rgba(0, 0, 0, 0.15);\n",
              "      filter: drop-shadow(0px 1px 2px rgba(0, 0, 0, 0.3));\n",
              "      fill: #FFFFFF;\n",
              "    }\n",
              "  </style>\n",
              "\n",
              "      <script>\n",
              "        const buttonEl =\n",
              "          document.querySelector('#df-471a9625-0651-4e17-903b-0dd13e4a81be button.colab-df-convert');\n",
              "        buttonEl.style.display =\n",
              "          google.colab.kernel.accessAllowed ? 'block' : 'none';\n",
              "\n",
              "        async function convertToInteractive(key) {\n",
              "          const element = document.querySelector('#df-471a9625-0651-4e17-903b-0dd13e4a81be');\n",
              "          const dataTable =\n",
              "            await google.colab.kernel.invokeFunction('convertToInteractive',\n",
              "                                                     [key], {});\n",
              "          if (!dataTable) return;\n",
              "\n",
              "          const docLinkHtml = 'Like what you see? Visit the ' +\n",
              "            '<a target=\"_blank\" href=https://colab.research.google.com/notebooks/data_table.ipynb>data table notebook</a>'\n",
              "            + ' to learn more about interactive tables.';\n",
              "          element.innerHTML = '';\n",
              "          dataTable['output_type'] = 'display_data';\n",
              "          await google.colab.output.renderOutput(dataTable, element);\n",
              "          const docLink = document.createElement('div');\n",
              "          docLink.innerHTML = docLinkHtml;\n",
              "          element.appendChild(docLink);\n",
              "        }\n",
              "      </script>\n",
              "    </div>\n",
              "  </div>\n",
              "  "
            ],
            "text/plain": [
              "                                                    text  emoji\n",
              "0                                i didnt feel humiliated      3\n",
              "1      i can go from feeling so hopeless to so damned...      3\n",
              "2       im grabbing a minute to post i feel greedy wrong      4\n",
              "3      i am ever feeling nostalgic about the fireplac...      0\n",
              "4                                   i am feeling grouchy      4\n",
              "...                                                  ...    ...\n",
              "15995  i just had a very brief time in the beanbag an...      3\n",
              "15996  i am now turning and i feel pathetic that i am...      3\n",
              "15997                     i feel strong and good overall      2\n",
              "15998  i feel like this was such a rude comment and i...      4\n",
              "15999  i know a lot but i feel so stupid because i ca...      3\n",
              "\n",
              "[16000 rows x 2 columns]"
            ]
          },
          "metadata": {},
          "execution_count": 11
        }
      ]
    },
    {
      "cell_type": "code",
      "source": [
        "input_train=data_train.text\n",
        "output_train=data_train.emoji\n",
        "input_test=data_test.text\n",
        "output_test=data_test.emoji"
      ],
      "metadata": {
        "id": "CxWj5gD7IbVc"
      },
      "execution_count": null,
      "outputs": []
    },
    {
      "cell_type": "code",
      "source": [
        "input_train "
      ],
      "metadata": {
        "colab": {
          "base_uri": "https://localhost:8080/"
        },
        "id": "forjv8QoNTGr",
        "outputId": "1617bb15-b069-421f-c85b-c611d814e297"
      },
      "execution_count": null,
      "outputs": [
        {
          "output_type": "execute_result",
          "data": {
            "text/plain": [
              "0                                  i didnt feel humiliated\n",
              "1        i can go from feeling so hopeless to so damned...\n",
              "2         im grabbing a minute to post i feel greedy wrong\n",
              "3        i am ever feeling nostalgic about the fireplac...\n",
              "4                                     i am feeling grouchy\n",
              "                               ...                        \n",
              "15995    i just had a very brief time in the beanbag an...\n",
              "15996    i am now turning and i feel pathetic that i am...\n",
              "15997                       i feel strong and good overall\n",
              "15998    i feel like this was such a rude comment and i...\n",
              "15999    i know a lot but i feel so stupid because i ca...\n",
              "Name: text, Length: 16000, dtype: object"
            ]
          },
          "metadata": {},
          "execution_count": 13
        }
      ]
    },
    {
      "cell_type": "code",
      "source": [
        "output_train.hist()"
      ],
      "metadata": {
        "colab": {
          "base_uri": "https://localhost:8080/",
          "height": 283
        },
        "id": "HyjvuK-ePjXN",
        "outputId": "16e4eb80-6f8f-4714-844a-8daf7e8ba9a1"
      },
      "execution_count": null,
      "outputs": [
        {
          "output_type": "execute_result",
          "data": {
            "text/plain": [
              "<matplotlib.axes._subplots.AxesSubplot at 0x7fab14b4dd10>"
            ]
          },
          "metadata": {},
          "execution_count": 14
        },
        {
          "output_type": "display_data",
          "data": {
            "image/png": "[encoded data removed]",
            "text/plain": [
              "<Figure size 432x288 with 1 Axes>"
            ]
          },
          "metadata": {
            "needs_background": "light"
          }
        }
      ]
    },
    {
      "cell_type": "markdown",
      "source": [
        "#4- Tokenize and pad the text, use a vocabulary size of 10,000 and maximum sequence length of 64"
      ],
      "metadata": {
        "id": "MbkGa2lwrZ-A"
      }
    },
    {
      "cell_type": "markdown",
      "source": [
        "### *Text Clean Up*"
      ],
      "metadata": {
        "id": "WxOzF78qKcQ3"
      }
    },
    {
      "cell_type": "code",
      "source": [
        "def clean_text(text):\n",
        "    \n",
        "    text = text.lower()\n",
        "    text = re.sub('\\[.*?\\]', '', text)\n",
        "    text = re.sub('https?://\\S+|www\\.\\S+', '', text)\n",
        "    text = re.sub('<.*?>+', '', text)\n",
        "    text = re.sub('\\n', '', text)\n",
        "    text = re.sub('\\w*\\d\\w*', '', text)\n",
        "    text = \" \".join(filter(lambda x:x[0]!=\"@\", text.split()))\n",
        "    return text\n",
        "input_train = input_train.apply(clean_text)\n",
        "input_test = input_test.apply(clean_text)"
      ],
      "metadata": {
        "id": "VNYivTvOKjG2"
      },
      "execution_count": null,
      "outputs": []
    },
    {
      "cell_type": "markdown",
      "source": [
        "### *Tokenization*"
      ],
      "metadata": {
        "id": "CP7wSn-qVyJd"
      }
    },
    {
      "cell_type": "code",
      "source": [
        "# write your code below\n",
        "voc=10000\n",
        "text_tok=tf.keras.preprocessing.text.Tokenizer(num_words=voc,oov_token='<OOV>',\n",
        "                                            filters='!\"#$%&()*+,-./:;=?@[\\\\]^_`{|}~\\t\\n')\n",
        "text_tok.fit_on_texts(input_train)\n",
        "\n",
        "input_train_tok=text_tok.texts_to_sequences(input_train)\n",
        "input_test_tok=text_tok.texts_to_sequences(input_test)\n",
        "print(input_train_tok[0])\n",
        "for token in input_train_tok[0]:\n",
        "  print(text_tok.index_word[token],end=' ')"
      ],
      "metadata": {
        "id": "WVj4OxmprE7W",
        "colab": {
          "base_uri": "https://localhost:8080/"
        },
        "outputId": "0bbc517b-07c4-467a-91ea-7a3da9935509"
      },
      "execution_count": null,
      "outputs": [
        {
          "output_type": "stream",
          "name": "stdout",
          "text": [
            "[2, 139, 3, 679]\n",
            "i didnt feel humiliated "
          ]
        }
      ]
    },
    {
      "cell_type": "markdown",
      "source": [
        "### *Padding*"
      ],
      "metadata": {
        "id": "Jm4iBOT6WGqU"
      }
    },
    {
      "cell_type": "code",
      "source": [
        "padding_train=tf.keras.preprocessing.sequence.pad_sequences(input_train_tok\n",
        "                                                      ,maxlen=64\n",
        "                                                      ,padding='post'\n",
        "                                                      ,truncating='post')\n",
        "padding_test=tf.keras.preprocessing.sequence.pad_sequences(input_test_tok\n",
        "                                                      ,maxlen=64\n",
        "                                                      ,padding='post'\n",
        "                                                      ,truncating='post')\n"
      ],
      "metadata": {
        "id": "xMT9lAYCWOeE"
      },
      "execution_count": null,
      "outputs": []
    },
    {
      "cell_type": "markdown",
      "source": [
        "#5-Data pipbline"
      ],
      "metadata": {
        "id": "5rlaXi-41Z-7"
      }
    },
    {
      "cell_type": "code",
      "source": [
        "def data_create(x,y):\n",
        "  data=tf.data.Dataset.from_tensor_slices((x,y))\n",
        "  data=data.shuffle(1024)\n",
        "  data= data.batch(batch_size=64)\n",
        "  data=data.prefetch(tf.data.AUTOTUNE)\n",
        "  return data\n",
        "\n",
        "\n",
        "datatrain=data_create(padding_train,output_train)\n",
        "datatest=data_create(padding_test,output_test)"
      ],
      "metadata": {
        "id": "ioMEMkmFWgih"
      },
      "execution_count": null,
      "outputs": []
    },
    {
      "cell_type": "code",
      "source": [
        "for input,output in datatrain.take(1):\n",
        "  print(input[0])\n",
        "  print(output[0])"
      ],
      "metadata": {
        "colab": {
          "base_uri": "https://localhost:8080/"
        },
        "id": "ee3zKR1JZ9h8",
        "outputId": "c5d13bdb-8b36-4dfb-8401-3ce6f8764afc"
      },
      "execution_count": null,
      "outputs": [
        {
          "output_type": "stream",
          "name": "stdout",
          "text": [
            "tf.Tensor(\n",
            "[   2   39   26    3  511   35 3518    0    0    0    0    0    0    0\n",
            "    0    0    0    0    0    0    0    0    0    0    0    0    0    0\n",
            "    0    0    0    0    0    0    0    0    0    0    0    0    0    0\n",
            "    0    0    0    0    0    0    0    0    0    0    0    0    0    0\n",
            "    0    0    0    0    0    0    0    0], shape=(64,), dtype=int32)\n",
            "tf.Tensor(5, shape=(), dtype=int64)\n"
          ]
        }
      ]
    },
    {
      "cell_type": "markdown",
      "source": [
        "#6- Modeling:\n",
        "Define the sequential models, make sure to use RNN,LSTM,GRU and DNN with Embedding layers using Bidirectional LSTM if necessary. The training and validation accuracy should be at least 94% and 88% respectively"
      ],
      "metadata": {
        "id": "nOEo3I9grsab"
      }
    },
    {
      "cell_type": "markdown",
      "source": [
        "###DNN"
      ],
      "metadata": {
        "id": "CTm4zclGV2Tf"
      }
    },
    {
      "cell_type": "code",
      "source": [
        "tf.keras.backend.clear_session()\n",
        "model_Dnn = tf.keras.Sequential([\n",
        "                             \n",
        "                    tf.keras.layers.Input(shape=(64,)),\n",
        "                    tf.keras.layers.Embedding(input_dim=voc+1,output_dim=64,mask_zero=True),\n",
        "                    tf.keras.layers.Flatten(),\n",
        "                    tf.keras.layers.Dense(units=512,activation='leaky_relu'),\n",
        "                    tf.keras.layers.Dropout(0.3),\n",
        "                    tf.keras.layers.Dense(units=6,activation='softmax')\n",
        "\n",
        "                             \n",
        "\n",
        "])\n",
        "model_Dnn.summary()"
      ],
      "metadata": {
        "id": "JwvMgvQyIfoh",
        "colab": {
          "base_uri": "https://localhost:8080/"
        },
        "outputId": "d89dc9d2-71bf-4b06-fc7b-9e091e5475ab"
      },
      "execution_count": null,
      "outputs": [
        {
          "output_type": "stream",
          "name": "stdout",
          "text": [
            "Model: \"sequential\"\n",
            "_________________________________________________________________\n",
            " Layer (type)                Output Shape              Param #   \n",
            "=================================================================\n",
            " embedding (Embedding)       (None, 64, 64)            640064    \n",
            "                                                                 \n",
            " flatten (Flatten)           (None, 4096)              0         \n",
            "                                                                 \n",
            " dense (Dense)               (None, 512)               2097664   \n",
            "                                                                 \n",
            " dropout (Dropout)           (None, 512)               0         \n",
            "                                                                 \n",
            " dense_1 (Dense)             (None, 6)                 3078      \n",
            "                                                                 \n",
            "=================================================================\n",
            "Total params: 2,740,806\n",
            "Trainable params: 2,740,806\n",
            "Non-trainable params: 0\n",
            "_________________________________________________________________\n"
          ]
        }
      ]
    },
    {
      "cell_type": "code",
      "source": [
        "# write your code below\n",
        "bestdnn_model=tf.keras.callbacks.ModelCheckpoint('/content/drive/MyDrive/My_Models/ModelDnn_Mohammed_Maher.h5',\n",
        "                                                monitor='val_acc',\n",
        "                                                save_best_only=True)\n",
        "model_Dnn.compile(optimizer=tf.optimizers.Adam(),\n",
        "                  loss=tf.losses.SparseCategoricalCrossentropy(),\n",
        "                  metrics=['acc'])\n",
        "model_Dnn.fit(datatrain,epochs=6,validation_data=datatest, callbacks=[bestdnn_model])\n"
      ],
      "metadata": {
        "id": "Fy6HA5ZIrFLJ",
        "colab": {
          "base_uri": "https://localhost:8080/"
        },
        "outputId": "f6678ce6-5dc8-4730-9287-23d8fb635759"
      },
      "execution_count": null,
      "outputs": [
        {
          "output_type": "stream",
          "name": "stdout",
          "text": [
            "Epoch 1/6\n",
            "250/250 [==============================] - 3s 9ms/step - loss: 1.2612 - acc: 0.5276 - val_loss: 0.6213 - val_acc: 0.7975\n",
            "Epoch 2/6\n",
            "250/250 [==============================] - 2s 8ms/step - loss: 0.2933 - acc: 0.9044 - val_loss: 0.4487 - val_acc: 0.8580\n",
            "Epoch 3/6\n",
            "250/250 [==============================] - 2s 8ms/step - loss: 0.0697 - acc: 0.9808 - val_loss: 0.4771 - val_acc: 0.8575\n",
            "Epoch 4/6\n",
            "250/250 [==============================] - 2s 8ms/step - loss: 0.0338 - acc: 0.9920 - val_loss: 0.5427 - val_acc: 0.8555\n",
            "Epoch 5/6\n",
            "250/250 [==============================] - 2s 8ms/step - loss: 0.0264 - acc: 0.9939 - val_loss: 0.5518 - val_acc: 0.8605\n",
            "Epoch 6/6\n",
            "250/250 [==============================] - 2s 7ms/step - loss: 0.0211 - acc: 0.9949 - val_loss: 0.6005 - val_acc: 0.8555\n"
          ]
        },
        {
          "output_type": "execute_result",
          "data": {
            "text/plain": [
              "<keras.callbacks.History at 0x7faa9753cc10>"
            ]
          },
          "metadata": {},
          "execution_count": 26
        }
      ]
    },
    {
      "cell_type": "code",
      "source": [
        "history_model_Dnn = pd.DataFrame(model_Dnn.history.history)\n",
        "history_model_Dnn[['loss', 'val_loss']].plot.line()"
      ],
      "metadata": {
        "colab": {
          "base_uri": "https://localhost:8080/",
          "height": 283
        },
        "id": "dq8yLqEB1Tqp",
        "outputId": "70e9222f-e138-406c-bbc8-0e78d5916858"
      },
      "execution_count": null,
      "outputs": [
        {
          "output_type": "execute_result",
          "data": {
            "text/plain": [
              "<matplotlib.axes._subplots.AxesSubplot at 0x7faa98f77250>"
            ]
          },
          "metadata": {},
          "execution_count": 27
        },
        {
          "output_type": "display_data",
          "data": {
            "image/png": "[encoded data removed]",
            "text/plain": [
              "<Figure size 432x288 with 1 Axes>"
            ]
          },
          "metadata": {
            "needs_background": "light"
          }
        }
      ]
    },
    {
      "cell_type": "code",
      "source": [
        "pred_model_Dnn = np.argmax(model_Dnn.predict(padding_test), -1)\n",
        "print(f'accuracy_score: {metrics.accuracy_score(output_test, pred_model_Dnn)}')\n",
        "plt.figure(figsize=(10,10))\n",
        "\n",
        "\n",
        "sn.heatmap(metrics.confusion_matrix(output_test, pred_model_Dnn), cmap='Blues', annot=True, linewidths=2)"
      ],
      "metadata": {
        "colab": {
          "base_uri": "https://localhost:8080/",
          "height": 628
        },
        "id": "YKXGxur11Tqp",
        "outputId": "7d717080-2caf-45c8-f0cd-b30834a0f375"
      },
      "execution_count": null,
      "outputs": [
        {
          "output_type": "stream",
          "name": "stdout",
          "text": [
            "accuracy_score: 0.8555\n"
          ]
        },
        {
          "output_type": "execute_result",
          "data": {
            "text/plain": [
              "<matplotlib.axes._subplots.AxesSubplot at 0x7faa98f0bd10>"
            ]
          },
          "metadata": {},
          "execution_count": 29
        },
        {
          "output_type": "display_data",
          "data": {
            "image/png": "[encoded data removed]",
            "text/plain": [
              "<Figure size 720x720 with 2 Axes>"
            ]
          },
          "metadata": {
            "needs_background": "light"
          }
        }
      ]
    },
    {
      "cell_type": "markdown",
      "source": [
        "##RNN"
      ],
      "metadata": {
        "id": "44Oqg7DAfzOB"
      }
    },
    {
      "cell_type": "markdown",
      "source": [
        "###RNN"
      ],
      "metadata": {
        "id": "PTXnTSABvVLt"
      }
    },
    {
      "cell_type": "code",
      "source": [
        "tf.keras.backend.clear_session()\n",
        "rnn_model=tf.keras.Sequential([\n",
        "                \n",
        "      tf.keras.layers.Input(shape=(64,)),\n",
        "      tf.keras.layers.Embedding(input_dim=voc+1,output_dim=64,mask_zero=True),\n",
        "      tf.keras.layers.SimpleRNN(128,activation='tanh'),\n",
        "      tf.keras.layers.Dense(6,activation='softmax')\n",
        "])"
      ],
      "metadata": {
        "id": "IH1b1r2qf130"
      },
      "execution_count": null,
      "outputs": []
    },
    {
      "cell_type": "code",
      "source": [
        "bestRnn_model=tf.keras.callbacks.ModelCheckpoint('/content/drive/MyDrive/My_Models/ModelRnn_Mohammed_Maher.h5',\n",
        "                                                monitor='val_acc',\n",
        "                                                save_best_only=True)\n",
        "# write your code below\n",
        "rnn_model.compile(optimizer=tf.optimizers.Adam(),\n",
        "                  loss=tf.losses.SparseCategoricalCrossentropy(),\n",
        "                  metrics=['acc'])\n",
        "rnn_model.fit(datatrain,epochs=6,validation_data=datatest,callbacks=[bestRnn_model])\n"
      ],
      "metadata": {
        "colab": {
          "base_uri": "https://localhost:8080/"
        },
        "id": "dTy7beCu4ekW",
        "outputId": "d53a1a9c-003b-4530-b612-42198dee22ad"
      },
      "execution_count": null,
      "outputs": [
        {
          "output_type": "stream",
          "name": "stdout",
          "text": [
            "Epoch 1/6\n",
            "250/250 [==============================] - 35s 137ms/step - loss: 1.5601 - acc: 0.3706 - val_loss: 1.4067 - val_acc: 0.4920\n",
            "Epoch 2/6\n",
            "250/250 [==============================] - 34s 136ms/step - loss: 0.9072 - acc: 0.6928 - val_loss: 0.7469 - val_acc: 0.7580\n",
            "Epoch 3/6\n",
            "250/250 [==============================] - 33s 133ms/step - loss: 0.3767 - acc: 0.8781 - val_loss: 0.6424 - val_acc: 0.7800\n",
            "Epoch 4/6\n",
            "250/250 [==============================] - 33s 134ms/step - loss: 0.1798 - acc: 0.9441 - val_loss: 0.6876 - val_acc: 0.7945\n",
            "Epoch 5/6\n",
            "250/250 [==============================] - 33s 131ms/step - loss: 0.0934 - acc: 0.9737 - val_loss: 0.6711 - val_acc: 0.8115\n",
            "Epoch 6/6\n",
            "250/250 [==============================] - 32s 128ms/step - loss: 0.0752 - acc: 0.9784 - val_loss: 0.7488 - val_acc: 0.7880\n"
          ]
        },
        {
          "output_type": "execute_result",
          "data": {
            "text/plain": [
              "<keras.callbacks.History at 0x7faa98f43d10>"
            ]
          },
          "metadata": {},
          "execution_count": 34
        }
      ]
    },
    {
      "cell_type": "code",
      "source": [
        "history_rnn_model = pd.DataFrame(rnn_model.history.history)\n",
        "history_rnn_model[['loss', 'val_loss']].plot.line()"
      ],
      "metadata": {
        "colab": {
          "base_uri": "https://localhost:8080/",
          "height": 283
        },
        "id": "gm5dx-pj1Raw",
        "outputId": "9e18e25f-659b-45ac-9083-169c061b618f"
      },
      "execution_count": null,
      "outputs": [
        {
          "output_type": "execute_result",
          "data": {
            "text/plain": [
              "<matplotlib.axes._subplots.AxesSubplot at 0x7faa98b4c9d0>"
            ]
          },
          "metadata": {},
          "execution_count": 35
        },
        {
          "output_type": "display_data",
          "data": {
            "image/png": "[encoded data removed]",
            "text/plain": [
              "<Figure size 432x288 with 1 Axes>"
            ]
          },
          "metadata": {
            "needs_background": "light"
          }
        }
      ]
    },
    {
      "cell_type": "code",
      "source": [
        "pred_rnn_model = np.argmax(rnn_model.predict(padding_test), -1)\n",
        "print(f'accuracy_score: {metrics.accuracy_score(output_test, pred_rnn_model)}')\n",
        "plt.figure(figsize=(10,10))\n",
        "\n",
        "\n",
        "sn.heatmap(metrics.confusion_matrix(output_test, pred_rnn_model), cmap='Blues', annot=True, linewidths=2)"
      ],
      "metadata": {
        "colab": {
          "base_uri": "https://localhost:8080/",
          "height": 628
        },
        "id": "nxkX4E5K1Rax",
        "outputId": "52cd7562-1741-4a69-e036-9819f0e79f58"
      },
      "execution_count": null,
      "outputs": [
        {
          "output_type": "stream",
          "name": "stdout",
          "text": [
            "accuracy_score: 0.788\n"
          ]
        },
        {
          "output_type": "execute_result",
          "data": {
            "text/plain": [
              "<matplotlib.axes._subplots.AxesSubplot at 0x7faa989ae790>"
            ]
          },
          "metadata": {},
          "execution_count": 37
        },
        {
          "output_type": "display_data",
          "data": {
            "image/png": "[encoded data removed]",
            "text/plain": [
              "<Figure size 720x720 with 2 Axes>"
            ]
          },
          "metadata": {
            "needs_background": "light"
          }
        }
      ]
    },
    {
      "cell_type": "markdown",
      "source": [
        "###Deep-RNN"
      ],
      "metadata": {
        "id": "dKBQzWD6vbQ9"
      }
    },
    {
      "cell_type": "code",
      "source": [
        "tf.keras.backend.clear_session()\n",
        "rnn_deep_model=tf.keras.Sequential([\n",
        "                \n",
        "      tf.keras.layers.Input(shape=(64,)),\n",
        "      tf.keras.layers.Embedding(input_dim=voc+1,output_dim=64,mask_zero=True),\n",
        "      tf.keras.layers.SimpleRNN(128,activation='tanh',return_sequences=True),\n",
        "      tf.keras.layers.SimpleRNN(64,activation='tanh'),\n",
        "      tf.keras.layers.Dense(6,activation='softmax')\n",
        "])"
      ],
      "metadata": {
        "id": "vduGOfivjzQu"
      },
      "execution_count": null,
      "outputs": []
    },
    {
      "cell_type": "code",
      "source": [
        "bestRnnDeep_model=tf.keras.callbacks.ModelCheckpoint('/content/drive/MyDrive/My_Models/ModeldeepRnn_Mohammed_Maher.h5',\n",
        "                                                monitor='val_acc',\n",
        "                                                save_best_only=True)\n",
        "# write your code below\n",
        "rnn_deep_model.compile(optimizer=tf.optimizers.Adam(),\n",
        "                  loss=tf.losses.SparseCategoricalCrossentropy(),\n",
        "                  metrics=['acc'])\n",
        "rnn_deep_model.fit(datatrain,epochs=6,validation_data=datatest,callbacks=[bestRnnDeep_model])\n"
      ],
      "metadata": {
        "colab": {
          "base_uri": "https://localhost:8080/"
        },
        "id": "WdQ8I03c5z9M",
        "outputId": "7743af40-e724-4644-b818-a0117317ce9f"
      },
      "execution_count": null,
      "outputs": [
        {
          "output_type": "stream",
          "name": "stdout",
          "text": [
            "Epoch 1/6\n",
            "250/250 [==============================] - 64s 248ms/step - loss: 1.5650 - acc: 0.3643 - val_loss: 1.3418 - val_acc: 0.5175\n",
            "Epoch 2/6\n",
            "250/250 [==============================] - 62s 247ms/step - loss: 0.8110 - acc: 0.7139 - val_loss: 0.6585 - val_acc: 0.7935\n",
            "Epoch 3/6\n",
            "250/250 [==============================] - 63s 254ms/step - loss: 0.3798 - acc: 0.8756 - val_loss: 0.5919 - val_acc: 0.8075\n",
            "Epoch 4/6\n",
            "250/250 [==============================] - 62s 248ms/step - loss: 0.2356 - acc: 0.9239 - val_loss: 0.6360 - val_acc: 0.7975\n",
            "Epoch 5/6\n",
            "250/250 [==============================] - 63s 252ms/step - loss: 0.1305 - acc: 0.9603 - val_loss: 0.6719 - val_acc: 0.8005\n",
            "Epoch 6/6\n",
            "250/250 [==============================] - 62s 248ms/step - loss: 0.1843 - acc: 0.9402 - val_loss: 0.7023 - val_acc: 0.7975\n"
          ]
        },
        {
          "output_type": "execute_result",
          "data": {
            "text/plain": [
              "<keras.callbacks.History at 0x7faa988c1990>"
            ]
          },
          "metadata": {},
          "execution_count": 39
        }
      ]
    },
    {
      "cell_type": "code",
      "source": [
        "history_rnn_deep = pd.DataFrame(rnn_deep_model.history.history)\n",
        "history_rnn_deep[['loss', 'val_loss']].plot.line()"
      ],
      "metadata": {
        "colab": {
          "base_uri": "https://localhost:8080/",
          "height": 283
        },
        "id": "uzQz6GTL1QVo",
        "outputId": "7095b7ca-a529-4651-b650-0f1a069c5dfc"
      },
      "execution_count": null,
      "outputs": [
        {
          "output_type": "execute_result",
          "data": {
            "text/plain": [
              "<matplotlib.axes._subplots.AxesSubplot at 0x7faa980c6b10>"
            ]
          },
          "metadata": {},
          "execution_count": 40
        },
        {
          "output_type": "display_data",
          "data": {
            "image/png": "[encoded data removed]",
            "text/plain": [
              "<Figure size 432x288 with 1 Axes>"
            ]
          },
          "metadata": {
            "needs_background": "light"
          }
        }
      ]
    },
    {
      "cell_type": "code",
      "source": [
        "pred_rnn_deep = np.argmax(rnn_deep_model.predict(padding_test), -1)\n",
        "print(f'accuracy_score: {metrics.accuracy_score(output_test, pred_rnn_deep)}')\n",
        "plt.figure(figsize=(10,10))\n",
        "\n",
        "\n",
        "sn.heatmap(metrics.confusion_matrix(output_test, pred_rnn_deep), cmap='Blues', annot=True, linewidths=2)"
      ],
      "metadata": {
        "colab": {
          "base_uri": "https://localhost:8080/",
          "height": 630
        },
        "id": "d7rf2-9t1QVo",
        "outputId": "ff99077f-86ed-460b-bb41-bc8f4a78e112"
      },
      "execution_count": null,
      "outputs": [
        {
          "output_type": "stream",
          "name": "stdout",
          "text": [
            "accuracy_score: 0.7975\n"
          ]
        },
        {
          "output_type": "execute_result",
          "data": {
            "text/plain": [
              "<matplotlib.axes._subplots.AxesSubplot at 0x7faa9976ab50>"
            ]
          },
          "metadata": {},
          "execution_count": 41
        },
        {
          "output_type": "display_data",
          "data": {
            "image/png": "[encoded data removed]",
            "text/plain": [
              "<Figure size 720x720 with 2 Axes>"
            ]
          },
          "metadata": {
            "needs_background": "light"
          }
        }
      ]
    },
    {
      "cell_type": "markdown",
      "source": [
        "##LSTM "
      ],
      "metadata": {
        "id": "7cbEUto1nTki"
      }
    },
    {
      "cell_type": "markdown",
      "source": [
        "###Bi-LSTM"
      ],
      "metadata": {
        "id": "CC8Vhsilu61I"
      }
    },
    {
      "cell_type": "code",
      "source": [
        "tf.keras.backend.clear_session()\n",
        "model_bidir_lstm = tf.keras.Sequential([\n",
        "                             tf.keras.layers.Embedding(input_dim=voc+1,output_dim=64,mask_zero=True,\n",
        "                                                       input_shape=[None]),\n",
        "                             tf.keras.layers.Bidirectional( tf.keras.layers.LSTM(units=300,return_sequences=True)),\n",
        "                             tf.keras.layers.LSTM(200,return_sequences=True),\n",
        "                             tf.keras.layers.LSTM(300),\n",
        "                             tf.keras.layers.Dense(6,activation='softmax')\n",
        "\n",
        "                             \n",
        "\n",
        "])\n",
        "model_bidir_lstm.summary()"
      ],
      "metadata": {
        "colab": {
          "base_uri": "https://localhost:8080/"
        },
        "id": "MPV707RMThTP",
        "outputId": "0ab66df5-6367-4539-ea74-d5917f74af96"
      },
      "execution_count": null,
      "outputs": [
        {
          "output_type": "stream",
          "name": "stdout",
          "text": [
            "Model: \"sequential\"\n",
            "_________________________________________________________________\n",
            " Layer (type)                Output Shape              Param #   \n",
            "=================================================================\n",
            " embedding (Embedding)       (None, None, 64)          640064    \n",
            "                                                                 \n",
            " bidirectional (Bidirectiona  (None, None, 600)        876000    \n",
            " l)                                                              \n",
            "                                                                 \n",
            " lstm_1 (LSTM)               (None, None, 200)         640800    \n",
            "                                                                 \n",
            " lstm_2 (LSTM)               (None, 300)               601200    \n",
            "                                                                 \n",
            " dense (Dense)               (None, 6)                 1806      \n",
            "                                                                 \n",
            "=================================================================\n",
            "Total params: 2,759,870\n",
            "Trainable params: 2,759,870\n",
            "Non-trainable params: 0\n",
            "_________________________________________________________________\n"
          ]
        }
      ]
    },
    {
      "cell_type": "code",
      "source": [
        "bestbilstm_model=tf.keras.callbacks.ModelCheckpoint('/content/drive/MyDrive/My_Models/ModelBiLstm_Mohammed_Maher.h5',\n",
        "                                                monitor='val_acc',\n",
        "                                                save_best_only=True)\n",
        "\n",
        "model_bidir_lstm.compile(optimizer=tf.optimizers.Adam(),\n",
        "                  loss=tf.losses.SparseCategoricalCrossentropy(),\n",
        "                  metrics=['acc'])\n",
        "model_bidir_lstm.fit(datatrain,epochs=6,validation_data=datatest,callbacks=[bestbilstm_model])\n"
      ],
      "metadata": {
        "colab": {
          "base_uri": "https://localhost:8080/"
        },
        "id": "3eNYV8RM6L6t",
        "outputId": "65ed3ff5-1798-4c15-b631-2c11ad5204a4"
      },
      "execution_count": null,
      "outputs": [
        {
          "output_type": "stream",
          "name": "stdout",
          "text": [
            "Epoch 1/6\n",
            "250/250 [==============================] - 50s 123ms/step - loss: 1.1341 - acc: 0.5487 - val_loss: 0.5665 - val_acc: 0.8045\n",
            "Epoch 2/6\n",
            "250/250 [==============================] - 25s 99ms/step - loss: 0.3299 - acc: 0.8906 - val_loss: 0.3044 - val_acc: 0.8980\n",
            "Epoch 3/6\n",
            "250/250 [==============================] - 25s 100ms/step - loss: 0.1676 - acc: 0.9402 - val_loss: 0.2640 - val_acc: 0.9065\n",
            "Epoch 4/6\n",
            "250/250 [==============================] - 25s 100ms/step - loss: 0.1175 - acc: 0.9554 - val_loss: 0.2183 - val_acc: 0.9210\n",
            "Epoch 5/6\n",
            "250/250 [==============================] - 25s 99ms/step - loss: 0.0912 - acc: 0.9643 - val_loss: 0.2881 - val_acc: 0.8955\n",
            "Epoch 6/6\n",
            "250/250 [==============================] - 25s 99ms/step - loss: 0.0755 - acc: 0.9712 - val_loss: 0.2617 - val_acc: 0.9085\n"
          ]
        },
        {
          "output_type": "execute_result",
          "data": {
            "text/plain": [
              "<keras.callbacks.History at 0x7faa99463250>"
            ]
          },
          "metadata": {},
          "execution_count": 43
        }
      ]
    },
    {
      "cell_type": "code",
      "source": [
        "history_bidir_lstm = pd.DataFrame(model_bidir_lstm.history.history)\n",
        "history_bidir_lstm [['loss', 'val_loss']].plot.line()"
      ],
      "metadata": {
        "colab": {
          "base_uri": "https://localhost:8080/",
          "height": 283
        },
        "id": "SVsLXKTA1O-o",
        "outputId": "b54329c6-9aa4-4d75-8841-959391dec63b"
      },
      "execution_count": null,
      "outputs": [
        {
          "output_type": "execute_result",
          "data": {
            "text/plain": [
              "<matplotlib.axes._subplots.AxesSubplot at 0x7faa65c7f310>"
            ]
          },
          "metadata": {},
          "execution_count": 44
        },
        {
          "output_type": "display_data",
          "data": {
            "image/png": "[encoded data removed]",
            "text/plain": [
              "<Figure size 432x288 with 1 Axes>"
            ]
          },
          "metadata": {
            "needs_background": "light"
          }
        }
      ]
    },
    {
      "cell_type": "code",
      "source": [
        "pred_bidir_lstm = np.argmax(model_bidir_lstm.predict(padding_test), -1)\n",
        "print(f'accuracy_score: {metrics.accuracy_score(output_test, pred_bidir_lstm)}')\n",
        "plt.figure(figsize=(10,10))\n",
        "\n",
        "\n",
        "sn.heatmap(metrics.confusion_matrix(output_test, pred_bidir_lstm), cmap='Blues', annot=True, linewidths=2)"
      ],
      "metadata": {
        "colab": {
          "base_uri": "https://localhost:8080/",
          "height": 628
        },
        "id": "nDlTSACw1O-o",
        "outputId": "dbd77d55-790d-4de8-fe88-267bd326ca19"
      },
      "execution_count": null,
      "outputs": [
        {
          "output_type": "stream",
          "name": "stdout",
          "text": [
            "accuracy_score: 0.9085\n"
          ]
        },
        {
          "output_type": "execute_result",
          "data": {
            "text/plain": [
              "<matplotlib.axes._subplots.AxesSubplot at 0x7faa9927a910>"
            ]
          },
          "metadata": {},
          "execution_count": 45
        },
        {
          "output_type": "display_data",
          "data": {
            "image/png": "[encoded data removed]",
            "text/plain": [
              "<Figure size 720x720 with 2 Axes>"
            ]
          },
          "metadata": {
            "needs_background": "light"
          }
        }
      ]
    },
    {
      "cell_type": "markdown",
      "source": [
        "###LSTM"
      ],
      "metadata": {
        "id": "jq8nyztSvA9h"
      }
    },
    {
      "cell_type": "code",
      "source": [
        "tf.keras.backend.clear_session()\n",
        "model_lstm = tf.keras.Sequential([\n",
        "      tf.keras.layers.Embedding(input_dim=voc+1,output_dim=64,mask_zero=True,\n",
        "                                                       input_shape=[None]),\n",
        "      tf.keras.layers.SpatialDropout1D(0.4),\n",
        "      tf.keras.layers.LSTM(128,return_sequences=True),\n",
        "      tf.keras.layers.LSTM(128),\n",
        "      tf.keras.layers.Dense(6,activation='softmax')\n",
        "\n",
        "])\n",
        "\n",
        "model_lstm.summary()"
      ],
      "metadata": {
        "id": "SD2ClCYye7Qw",
        "colab": {
          "base_uri": "https://localhost:8080/"
        },
        "outputId": "1f286367-e930-44a4-caef-879289544be9"
      },
      "execution_count": null,
      "outputs": [
        {
          "output_type": "stream",
          "name": "stdout",
          "text": [
            "Model: \"sequential\"\n",
            "_________________________________________________________________\n",
            " Layer (type)                Output Shape              Param #   \n",
            "=================================================================\n",
            " embedding (Embedding)       (None, None, 64)          640064    \n",
            "                                                                 \n",
            " spatial_dropout1d (SpatialD  (None, None, 64)         0         \n",
            " ropout1D)                                                       \n",
            "                                                                 \n",
            " lstm (LSTM)                 (None, None, 128)         98816     \n",
            "                                                                 \n",
            " lstm_1 (LSTM)               (None, 128)               131584    \n",
            "                                                                 \n",
            " dense (Dense)               (None, 6)                 774       \n",
            "                                                                 \n",
            "=================================================================\n",
            "Total params: 871,238\n",
            "Trainable params: 871,238\n",
            "Non-trainable params: 0\n",
            "_________________________________________________________________\n"
          ]
        }
      ]
    },
    {
      "cell_type": "code",
      "source": [
        "bestlstm_model=tf.keras.callbacks.ModelCheckpoint('/content/drive/MyDrive/My_Models/ModelLstm_Mohammed_Maher.h5',\n",
        "                                                monitor='val_acc',\n",
        "                                                save_best_only=True)\n",
        "\n",
        "model_lstm.compile(optimizer=tf.optimizers.Adam(),\n",
        "                  loss=tf.losses.SparseCategoricalCrossentropy(),\n",
        "                  metrics=['acc'])\n",
        "model_lstm.fit(datatrain,epochs=6,validation_data=datatest,callbacks=[bestlstm_model])\n"
      ],
      "metadata": {
        "colab": {
          "base_uri": "https://localhost:8080/"
        },
        "id": "c_ob3tJ66pEC",
        "outputId": "1f936be0-4062-4c00-97c4-c496dc95c59d"
      },
      "execution_count": null,
      "outputs": [
        {
          "output_type": "stream",
          "name": "stdout",
          "text": [
            "Epoch 1/6\n",
            "250/250 [==============================] - 25s 59ms/step - loss: 1.3026 - acc: 0.4868 - val_loss: 0.7115 - val_acc: 0.7700\n",
            "Epoch 2/6\n",
            "250/250 [==============================] - 12s 47ms/step - loss: 0.4534 - acc: 0.8476 - val_loss: 0.2804 - val_acc: 0.9005\n",
            "Epoch 3/6\n",
            "250/250 [==============================] - 12s 48ms/step - loss: 0.2224 - acc: 0.9243 - val_loss: 0.2333 - val_acc: 0.9095\n",
            "Epoch 4/6\n",
            "250/250 [==============================] - 12s 48ms/step - loss: 0.1578 - acc: 0.9427 - val_loss: 0.2282 - val_acc: 0.9105\n",
            "Epoch 5/6\n",
            "250/250 [==============================] - 12s 47ms/step - loss: 0.1305 - acc: 0.9505 - val_loss: 0.2393 - val_acc: 0.9165\n",
            "Epoch 6/6\n",
            "250/250 [==============================] - 12s 50ms/step - loss: 0.1088 - acc: 0.9618 - val_loss: 0.2234 - val_acc: 0.9175\n"
          ]
        },
        {
          "output_type": "execute_result",
          "data": {
            "text/plain": [
              "<keras.callbacks.History at 0x7faa94087790>"
            ]
          },
          "metadata": {},
          "execution_count": 47
        }
      ]
    },
    {
      "cell_type": "code",
      "source": [
        "history_model_lstm = pd.DataFrame(model_lstm.history.history)\n",
        "history_model_lstm[['loss', 'val_loss']].plot.line()"
      ],
      "metadata": {
        "colab": {
          "base_uri": "https://localhost:8080/",
          "height": 283
        },
        "id": "3OWOXS_g1Njo",
        "outputId": "bab2c185-5567-4069-f2e5-d9b28b656a29"
      },
      "execution_count": null,
      "outputs": [
        {
          "output_type": "execute_result",
          "data": {
            "text/plain": [
              "<matplotlib.axes._subplots.AxesSubplot at 0x7faa67af9cd0>"
            ]
          },
          "metadata": {},
          "execution_count": 48
        },
        {
          "output_type": "display_data",
          "data": {
            "image/png": "[encoded data removed]",
            "text/plain": [
              "<Figure size 432x288 with 1 Axes>"
            ]
          },
          "metadata": {
            "needs_background": "light"
          }
        }
      ]
    },
    {
      "cell_type": "code",
      "source": [
        "pred_model_lstm = np.argmax(model_lstm.predict(padding_test), -1)\n",
        "print(f'accuracy_score: {metrics.accuracy_score(output_test, pred_model_lstm)}')\n",
        "plt.figure(figsize=(10,10))\n",
        "\n",
        "\n",
        "sn.heatmap(metrics.confusion_matrix(output_test, pred_model_lstm), cmap='Blues', annot=True, linewidths=2)"
      ],
      "metadata": {
        "colab": {
          "base_uri": "https://localhost:8080/",
          "height": 628
        },
        "id": "TY8rtcfB1Njy",
        "outputId": "44dd5f7d-6023-40bd-cab8-88f69aabde6f"
      },
      "execution_count": null,
      "outputs": [
        {
          "output_type": "stream",
          "name": "stdout",
          "text": [
            "accuracy_score: 0.9175\n"
          ]
        },
        {
          "output_type": "execute_result",
          "data": {
            "text/plain": [
              "<matplotlib.axes._subplots.AxesSubplot at 0x7faa68833090>"
            ]
          },
          "metadata": {},
          "execution_count": 50
        },
        {
          "output_type": "display_data",
          "data": {
            "image/png": "[encoded data removed]",
            "text/plain": [
              "<Figure size 720x720 with 2 Axes>"
            ]
          },
          "metadata": {
            "needs_background": "light"
          }
        }
      ]
    },
    {
      "cell_type": "markdown",
      "source": [
        "##GRU"
      ],
      "metadata": {
        "id": "BRoU4ADhpsJV"
      }
    },
    {
      "cell_type": "markdown",
      "source": [
        "###Bi-GRU"
      ],
      "metadata": {
        "id": "LFVSO7G3ul8r"
      }
    },
    {
      "cell_type": "code",
      "source": [
        "tf.keras.backend.clear_session()\n",
        "model_bidir_gru = tf.keras.Sequential([\n",
        "                             tf.keras.layers.Embedding(input_dim=voc+1,output_dim=64,mask_zero=True,\n",
        "                                                       input_shape=[None]),\n",
        "                             tf.keras.layers.Bidirectional( tf.keras.layers.GRU(units=300,return_sequences=True)),\n",
        "                             tf.keras.layers.GRU(200,return_sequences=True),\n",
        "                             tf.keras.layers.GRU(300),\n",
        "                             tf.keras.layers.Dense(6,activation='softmax')\n",
        "\n",
        "                             \n",
        "\n",
        "])\n",
        "model_bidir_gru.summary()"
      ],
      "metadata": {
        "id": "gha0GleoqFRC",
        "colab": {
          "base_uri": "https://localhost:8080/"
        },
        "outputId": "dd5b8f22-afde-46d0-e282-a775f45c7e60"
      },
      "execution_count": null,
      "outputs": [
        {
          "output_type": "stream",
          "name": "stdout",
          "text": [
            "Model: \"sequential\"\n",
            "_________________________________________________________________\n",
            " Layer (type)                Output Shape              Param #   \n",
            "=================================================================\n",
            " embedding (Embedding)       (None, None, 64)          640064    \n",
            "                                                                 \n",
            " bidirectional (Bidirectiona  (None, None, 600)        658800    \n",
            " l)                                                              \n",
            "                                                                 \n",
            " gru_1 (GRU)                 (None, None, 200)         481200    \n",
            "                                                                 \n",
            " gru_2 (GRU)                 (None, 300)               451800    \n",
            "                                                                 \n",
            " dense (Dense)               (None, 6)                 1806      \n",
            "                                                                 \n",
            "=================================================================\n",
            "Total params: 2,233,670\n",
            "Trainable params: 2,233,670\n",
            "Non-trainable params: 0\n",
            "_________________________________________________________________\n"
          ]
        }
      ]
    },
    {
      "cell_type": "code",
      "source": [
        "bestbidir_gru_model=tf.keras.callbacks.ModelCheckpoint('/content/drive/MyDrive/My_Models/ModelBiGru_Mohammed_Maher.h5',\n",
        "                                                monitor='val_acc',\n",
        "                                                save_best_only=True)\n",
        "\n",
        "model_bidir_gru.compile(optimizer=tf.optimizers.Adam(),\n",
        "                  loss=tf.losses.SparseCategoricalCrossentropy(),\n",
        "                  metrics=['acc'])\n",
        "model_bidir_gru.fit(datatrain,epochs=6,validation_data=datatest,callbacks=[bestbidir_gru_model])\n"
      ],
      "metadata": {
        "colab": {
          "base_uri": "https://localhost:8080/"
        },
        "id": "Mu2EzWCY6xTW",
        "outputId": "874d95c7-6402-43a9-ba71-b122d91bd094"
      },
      "execution_count": null,
      "outputs": [
        {
          "output_type": "stream",
          "name": "stdout",
          "text": [
            "Epoch 1/6\n",
            "250/250 [==============================] - 49s 119ms/step - loss: 1.0556 - acc: 0.5899 - val_loss: 0.2925 - val_acc: 0.8975\n",
            "Epoch 2/6\n",
            "250/250 [==============================] - 22s 90ms/step - loss: 0.1933 - acc: 0.9279 - val_loss: 0.1824 - val_acc: 0.9240\n",
            "Epoch 3/6\n",
            "250/250 [==============================] - 21s 84ms/step - loss: 0.1134 - acc: 0.9529 - val_loss: 0.2044 - val_acc: 0.9200\n",
            "Epoch 4/6\n",
            "250/250 [==============================] - 22s 87ms/step - loss: 0.0836 - acc: 0.9654 - val_loss: 0.1893 - val_acc: 0.9245\n",
            "Epoch 5/6\n",
            "250/250 [==============================] - 21s 84ms/step - loss: 0.0720 - acc: 0.9719 - val_loss: 0.2250 - val_acc: 0.9165\n",
            "Epoch 6/6\n",
            "250/250 [==============================] - 22s 86ms/step - loss: 0.0608 - acc: 0.9746 - val_loss: 0.2514 - val_acc: 0.9210\n"
          ]
        },
        {
          "output_type": "execute_result",
          "data": {
            "text/plain": [
              "<keras.callbacks.History at 0x7faa65ecbdd0>"
            ]
          },
          "metadata": {},
          "execution_count": 53
        }
      ]
    },
    {
      "cell_type": "code",
      "source": [
        "history_bidir_gru = pd.DataFrame(model_bidir_gru.history.history)\n",
        "history_bidir_gru[['loss', 'val_loss']].plot.line()"
      ],
      "metadata": {
        "colab": {
          "base_uri": "https://localhost:8080/",
          "height": 283
        },
        "id": "poKDvdyq030x",
        "outputId": "260ba704-377b-452c-e067-5920f9d8aede"
      },
      "execution_count": null,
      "outputs": [
        {
          "output_type": "execute_result",
          "data": {
            "text/plain": [
              "<matplotlib.axes._subplots.AxesSubplot at 0x7faa607019d0>"
            ]
          },
          "metadata": {},
          "execution_count": 54
        },
        {
          "output_type": "display_data",
          "data": {
            "image/png": "[encoded data removed]",
            "text/plain": [
              "<Figure size 432x288 with 1 Axes>"
            ]
          },
          "metadata": {
            "needs_background": "light"
          }
        }
      ]
    },
    {
      "cell_type": "code",
      "source": [
        "pred_bidir_gru = np.argmax(model_bidir_gru.predict(padding_test), -1)\n",
        "print(f'accuracy_score: {metrics.accuracy_score(output_test, pred_bidir_gru)}')\n",
        "plt.figure(figsize=(10,10))\n",
        "\n",
        "\n",
        "sn.heatmap(metrics.confusion_matrix(output_test, pred_bidir_gru), cmap='Blues', annot=True, linewidths=2)"
      ],
      "metadata": {
        "colab": {
          "base_uri": "https://localhost:8080/",
          "height": 628
        },
        "id": "QYb05FC0030x",
        "outputId": "ec4605f8-762f-4f5c-b5e5-9e48c2262f60"
      },
      "execution_count": null,
      "outputs": [
        {
          "output_type": "stream",
          "name": "stdout",
          "text": [
            "accuracy_score: 0.921\n"
          ]
        },
        {
          "output_type": "execute_result",
          "data": {
            "text/plain": [
              "<matplotlib.axes._subplots.AxesSubplot at 0x7faa642327d0>"
            ]
          },
          "metadata": {},
          "execution_count": 55
        },
        {
          "output_type": "display_data",
          "data": {
            "image/png": "[encoded data removed]",
            "text/plain": [
              "<Figure size 720x720 with 2 Axes>"
            ]
          },
          "metadata": {
            "needs_background": "light"
          }
        }
      ]
    },
    {
      "cell_type": "markdown",
      "source": [
        "###GRU"
      ],
      "metadata": {
        "id": "ura1aNO2u3Z1"
      }
    },
    {
      "cell_type": "code",
      "source": [
        "tf.keras.backend.clear_session()\n",
        "model_gru = tf.keras.Sequential([\n",
        "                             tf.keras.layers.Embedding(input_dim=voc+1,output_dim=64,mask_zero=True,\n",
        "                                                       input_shape=[None]),\n",
        "                             tf.keras.layers.GRU(128,return_sequences=True),\n",
        "                             tf.keras.layers.GRU(128),\n",
        "                             tf.keras.layers.Dense(6,activation='softmax')\n",
        "\n",
        "                             \n",
        "\n",
        "])\n",
        "model_gru.summary()"
      ],
      "metadata": {
        "colab": {
          "base_uri": "https://localhost:8080/"
        },
        "id": "IFbGb9Ave7nD",
        "outputId": "b29372a4-3d3e-4a2f-dd82-4a3aa76f5197"
      },
      "execution_count": null,
      "outputs": [
        {
          "output_type": "stream",
          "name": "stdout",
          "text": [
            "Model: \"sequential\"\n",
            "_________________________________________________________________\n",
            " Layer (type)                Output Shape              Param #   \n",
            "=================================================================\n",
            " embedding (Embedding)       (None, None, 64)          640064    \n",
            "                                                                 \n",
            " gru (GRU)                   (None, None, 128)         74496     \n",
            "                                                                 \n",
            " gru_1 (GRU)                 (None, 128)               99072     \n",
            "                                                                 \n",
            " dense (Dense)               (None, 6)                 774       \n",
            "                                                                 \n",
            "=================================================================\n",
            "Total params: 814,406\n",
            "Trainable params: 814,406\n",
            "Non-trainable params: 0\n",
            "_________________________________________________________________\n"
          ]
        }
      ]
    },
    {
      "cell_type": "code",
      "source": [
        "bestgru_model=tf.keras.callbacks.ModelCheckpoint('/content/drive/MyDrive/My_Models/ModelGru_Mohammed_Maher.h5',\n",
        "                                                monitor='val_acc',\n",
        "                                                save_best_only=True)\n",
        "\n",
        "model_gru.compile(optimizer=tf.optimizers.Adam(),\n",
        "                  loss=tf.losses.SparseCategoricalCrossentropy(),\n",
        "                  metrics=['acc'])\n",
        "model_gru.fit(datatrain,epochs=6,validation_data=datatest,callbacks=[bestgru_model])\n"
      ],
      "metadata": {
        "colab": {
          "base_uri": "https://localhost:8080/"
        },
        "id": "fxcjhnsk7Qca",
        "outputId": "400c5c8a-0269-471c-8c4b-d5167e062d0a"
      },
      "execution_count": null,
      "outputs": [
        {
          "output_type": "stream",
          "name": "stdout",
          "text": [
            "Epoch 1/6\n",
            "250/250 [==============================] - 24s 55ms/step - loss: 1.1055 - acc: 0.5796 - val_loss: 0.4313 - val_acc: 0.8550\n",
            "Epoch 2/6\n",
            "250/250 [==============================] - 10s 42ms/step - loss: 0.2433 - acc: 0.9147 - val_loss: 0.2180 - val_acc: 0.9140\n",
            "Epoch 3/6\n",
            "250/250 [==============================] - 10s 39ms/step - loss: 0.1143 - acc: 0.9535 - val_loss: 0.2349 - val_acc: 0.9135\n",
            "Epoch 4/6\n",
            "250/250 [==============================] - 10s 42ms/step - loss: 0.0864 - acc: 0.9631 - val_loss: 0.2207 - val_acc: 0.9185\n",
            "Epoch 5/6\n",
            "250/250 [==============================] - 10s 39ms/step - loss: 0.0685 - acc: 0.9727 - val_loss: 0.2720 - val_acc: 0.9100\n",
            "Epoch 6/6\n",
            "250/250 [==============================] - 10s 39ms/step - loss: 0.0660 - acc: 0.9735 - val_loss: 0.2627 - val_acc: 0.9120\n"
          ]
        },
        {
          "output_type": "execute_result",
          "data": {
            "text/plain": [
              "<keras.callbacks.History at 0x7faa65b7ea50>"
            ]
          },
          "metadata": {},
          "execution_count": 57
        }
      ]
    },
    {
      "cell_type": "code",
      "source": [
        "history_gru = pd.DataFrame(model_gru.history.history)\n",
        "history_gru[['loss', 'val_loss']].plot.line()"
      ],
      "metadata": {
        "colab": {
          "base_uri": "https://localhost:8080/",
          "height": 283
        },
        "id": "qaSRfL5oyLfF",
        "outputId": "46c9e2f7-23e6-45d3-e43d-4879231184c3"
      },
      "execution_count": null,
      "outputs": [
        {
          "output_type": "execute_result",
          "data": {
            "text/plain": [
              "<matplotlib.axes._subplots.AxesSubplot at 0x7faa5dbedf90>"
            ]
          },
          "metadata": {},
          "execution_count": 58
        },
        {
          "output_type": "display_data",
          "data": {
            "image/png": "[encoded data removed]",
            "text/plain": [
              "<Figure size 432x288 with 1 Axes>"
            ]
          },
          "metadata": {
            "needs_background": "light"
          }
        }
      ]
    },
    {
      "cell_type": "code",
      "source": [
        "pred_model_gru = np.argmax(model_gru.predict(padding_test), -1)\n",
        "print(f'accuracy_score: {metrics.accuracy_score(output_test, pred_model_gru)}')\n",
        "plt.figure(figsize=(10,10))\n",
        "\n",
        "\n",
        "sn.heatmap(metrics.confusion_matrix(output_test, pred_model_gru), cmap='Blues', annot=True, linewidths=2)"
      ],
      "metadata": {
        "colab": {
          "base_uri": "https://localhost:8080/",
          "height": 628
        },
        "id": "KQtGyPgF0krm",
        "outputId": "a3fce226-ecbf-4731-e3f9-681d4d434401"
      },
      "execution_count": null,
      "outputs": [
        {
          "output_type": "stream",
          "name": "stdout",
          "text": [
            "accuracy_score: 0.912\n"
          ]
        },
        {
          "output_type": "execute_result",
          "data": {
            "text/plain": [
              "<matplotlib.axes._subplots.AxesSubplot at 0x7faa6323da90>"
            ]
          },
          "metadata": {},
          "execution_count": 59
        },
        {
          "output_type": "display_data",
          "data": {
            "image/png": "[encoded data removed]",
            "text/plain": [
              "<Figure size 720x720 with 2 Axes>"
            ]
          },
          "metadata": {
            "needs_background": "light"
          }
        }
      ]
    },
    {
      "cell_type": "markdown",
      "source": [
        "###GRU-model2"
      ],
      "metadata": {
        "id": "qqYAg-6_0loR"
      }
    },
    {
      "cell_type": "code",
      "source": [
        "tf.keras.backend.clear_session()\n",
        "model_gru2 = tf.keras.Sequential([\n",
        "                             tf.keras.layers.Embedding(input_dim=voc+1,output_dim=64,mask_zero=True,\n",
        "                                                       input_shape=[None]),\n",
        "                             tf.keras.layers.GRU(300,return_sequences=True),\n",
        "                             tf.keras.layers.GRU(200),\n",
        "                             tf.keras.layers.Dense(6,activation='softmax')\n",
        "\n",
        "                             \n",
        "\n",
        "])\n",
        "model_gru2.summary()"
      ],
      "metadata": {
        "colab": {
          "base_uri": "https://localhost:8080/"
        },
        "id": "-veH5RQ7THBi",
        "outputId": "03e315ce-879f-4b5b-f6b1-dd7f674c8b13"
      },
      "execution_count": null,
      "outputs": [
        {
          "output_type": "stream",
          "name": "stdout",
          "text": [
            "Model: \"sequential\"\n",
            "_________________________________________________________________\n",
            " Layer (type)                Output Shape              Param #   \n",
            "=================================================================\n",
            " embedding (Embedding)       (None, None, 64)          640064    \n",
            "                                                                 \n",
            " gru (GRU)                   (None, None, 300)         329400    \n",
            "                                                                 \n",
            " gru_1 (GRU)                 (None, 200)               301200    \n",
            "                                                                 \n",
            " dense (Dense)               (None, 6)                 1206      \n",
            "                                                                 \n",
            "=================================================================\n",
            "Total params: 1,271,870\n",
            "Trainable params: 1,271,870\n",
            "Non-trainable params: 0\n",
            "_________________________________________________________________\n"
          ]
        }
      ]
    },
    {
      "cell_type": "code",
      "source": [
        "bestgru2_model=tf.keras.callbacks.ModelCheckpoint('/content/drive/MyDrive/My_Models/Gru2Model_Mohammed_Maher.h5',\n",
        "                                                monitor='val_acc',\n",
        "                                                save_best_only=True)\n",
        "\n",
        "model_gru2.compile(optimizer=tf.optimizers.Adam(),\n",
        "                  loss=tf.losses.SparseCategoricalCrossentropy(),\n",
        "                  metrics=['acc'])\n",
        "model_gru2.fit(datatrain,epochs=6,validation_data=datatest,callbacks=[bestgru2_model])\n"
      ],
      "metadata": {
        "colab": {
          "base_uri": "https://localhost:8080/"
        },
        "id": "cNeWfWgo7eLa",
        "outputId": "49cb13bf-a2f8-4347-ad0e-b6ed524abad2"
      },
      "execution_count": null,
      "outputs": [
        {
          "output_type": "stream",
          "name": "stdout",
          "text": [
            "Epoch 1/6\n",
            "250/250 [==============================] - 29s 80ms/step - loss: 1.0349 - acc: 0.6029 - val_loss: 0.2754 - val_acc: 0.9025\n",
            "Epoch 2/6\n",
            "250/250 [==============================] - 15s 58ms/step - loss: 0.1821 - acc: 0.9290 - val_loss: 0.1774 - val_acc: 0.9250\n",
            "Epoch 3/6\n",
            "250/250 [==============================] - 15s 60ms/step - loss: 0.0959 - acc: 0.9576 - val_loss: 0.1766 - val_acc: 0.9270\n",
            "Epoch 4/6\n",
            "250/250 [==============================] - 13s 52ms/step - loss: 0.0716 - acc: 0.9685 - val_loss: 0.2826 - val_acc: 0.9160\n",
            "Epoch 5/6\n",
            "250/250 [==============================] - 14s 54ms/step - loss: 0.0719 - acc: 0.9701 - val_loss: 0.2255 - val_acc: 0.9190\n",
            "Epoch 6/6\n",
            "250/250 [==============================] - 14s 55ms/step - loss: 0.0539 - acc: 0.9776 - val_loss: 0.2543 - val_acc: 0.9170\n"
          ]
        },
        {
          "output_type": "execute_result",
          "data": {
            "text/plain": [
              "<keras.callbacks.History at 0x7faa95896390>"
            ]
          },
          "metadata": {},
          "execution_count": 61
        }
      ]
    },
    {
      "cell_type": "code",
      "source": [
        "history_gru2 = pd.DataFrame(model_gru2.history.history)\n",
        "history_gru2[['loss', 'val_loss']].plot.line()"
      ],
      "metadata": {
        "colab": {
          "base_uri": "https://localhost:8080/",
          "height": 283
        },
        "id": "QMS6K0RbxNV-",
        "outputId": "3768c6fb-3e15-48b5-f4c4-b685eb870aeb"
      },
      "execution_count": null,
      "outputs": [
        {
          "output_type": "execute_result",
          "data": {
            "text/plain": [
              "<matplotlib.axes._subplots.AxesSubplot at 0x7faa5d3960d0>"
            ]
          },
          "metadata": {},
          "execution_count": 62
        },
        {
          "output_type": "display_data",
          "data": {
            "image/png": "[encoded data removed]",
            "text/plain": [
              "<Figure size 432x288 with 1 Axes>"
            ]
          },
          "metadata": {
            "needs_background": "light"
          }
        }
      ]
    },
    {
      "cell_type": "code",
      "source": [
        "pred_model_gru2 = np.argmax(model_gru2.predict(padding_test), -1)\n",
        "print(f'accuracy_score: {metrics.accuracy_score(output_test, pred_model_gru2)}')\n",
        "plt.figure(figsize=(10,10))\n",
        "\n",
        "\n",
        "sn.heatmap(metrics.confusion_matrix(output_test, pred_model_gru2), cmap='Blues', annot=True, linewidths=2)"
      ],
      "metadata": {
        "colab": {
          "base_uri": "https://localhost:8080/",
          "height": 628
        },
        "id": "oCMK0EFMw5K5",
        "outputId": "3366f6af-6137-4110-f237-ab33a7b3485f"
      },
      "execution_count": null,
      "outputs": [
        {
          "output_type": "stream",
          "name": "stdout",
          "text": [
            "accuracy_score: 0.917\n"
          ]
        },
        {
          "output_type": "execute_result",
          "data": {
            "text/plain": [
              "<matplotlib.axes._subplots.AxesSubplot at 0x7faa5f336ad0>"
            ]
          },
          "metadata": {},
          "execution_count": 63
        },
        {
          "output_type": "display_data",
          "data": {
            "image/png": "[encoded data removed]",
            "text/plain": [
              "<Figure size 720x720 with 2 Axes>"
            ]
          },
          "metadata": {
            "needs_background": "light"
          }
        }
      ]
    },
    {
      "cell_type": "markdown",
      "source": [
        "#7-Evaluation Model "
      ],
      "metadata": {
        "id": "FpcaEHWn7xO_"
      }
    },
    {
      "cell_type": "code",
      "source": [
        "models_list = glob.glob('/content/drive/MyDrive/My_Models'+'/*.h5')\n",
        "models_list"
      ],
      "metadata": {
        "colab": {
          "base_uri": "https://localhost:8080/"
        },
        "id": "32hczjlw5Rj4",
        "outputId": "51ac25d3-d4b3-4904-9211-2f836c995ec9"
      },
      "execution_count": null,
      "outputs": [
        {
          "output_type": "execute_result",
          "data": {
            "text/plain": [
              "['/content/drive/MyDrive/My_Models/ModelDnn_Mohammed_Maher.h5',\n",
              " '/content/drive/MyDrive/My_Models/ModelRnn_Mohammed_Maher.h5',\n",
              " '/content/drive/MyDrive/My_Models/ModeldeepRnn_Mohammed_Maher.h5',\n",
              " '/content/drive/MyDrive/My_Models/ModelBiLstm_Mohammed_Maher.h5',\n",
              " '/content/drive/MyDrive/My_Models/ModelLstm_Mohammed_Maher.h5',\n",
              " '/content/drive/MyDrive/My_Models/ModelBiGru_Mohammed_Maher.h5',\n",
              " '/content/drive/MyDrive/My_Models/ModelGru_Mohammed_Maher.h5',\n",
              " '/content/drive/MyDrive/My_Models/Gru2Model_Mohammed_Maher.h5']"
            ]
          },
          "metadata": {},
          "execution_count": 68
        }
      ]
    },
    {
      "cell_type": "code",
      "source": [
        "high_val_acc = 0.0\n",
        "best_model_index = 0\n",
        "\n",
        "for index, model_path in enumerate(models_list):\n",
        "\n",
        "  model = tf.keras.models.load_model(model_path)\n",
        "  [val_loss, val_acc] = model.evaluate(padding_test, output_test)\n",
        "\n",
        "  if val_acc > high_val_acc:\n",
        "    high_val_acc = val_acc\n",
        "    best_model_index = index\n",
        "\n",
        "  print(model_path)\n",
        "  print(f'val_loss: {val_loss} , val_acc: {val_acc}')\n",
        "  print('-'*50)\n",
        "  \n",
        "\n",
        "best_model_path = models_list[best_model_index]"
      ],
      "metadata": {
        "colab": {
          "base_uri": "https://localhost:8080/"
        },
        "id": "oXjcQtlX6Jun",
        "outputId": "22103a80-c88e-4133-949b-68a87ae52812"
      },
      "execution_count": null,
      "outputs": [
        {
          "output_type": "stream",
          "name": "stdout",
          "text": [
            "63/63 [==============================] - 0s 3ms/step - loss: 0.5518 - acc: 0.8605\n",
            "/content/drive/MyDrive/My_Models/ModelDnn_Mohammed_Maher.h5\n",
            "val_loss: 0.5518365502357483 , val_acc: 0.8604999780654907\n",
            "--------------------------------------------------\n",
            "63/63 [==============================] - 1s 12ms/step - loss: 0.6711 - acc: 0.8115\n",
            "/content/drive/MyDrive/My_Models/ModelRnn_Mohammed_Maher.h5\n",
            "val_loss: 0.6710658073425293 , val_acc: 0.8115000128746033\n",
            "--------------------------------------------------\n",
            "63/63 [==============================] - 2s 19ms/step - loss: 0.5919 - acc: 0.8075\n",
            "/content/drive/MyDrive/My_Models/ModeldeepRnn_Mohammed_Maher.h5\n",
            "val_loss: 0.5919255614280701 , val_acc: 0.8075000047683716\n",
            "--------------------------------------------------\n",
            "63/63 [==============================] - 8s 34ms/step - loss: 0.2183 - acc: 0.9210\n",
            "/content/drive/MyDrive/My_Models/ModelBiLstm_Mohammed_Maher.h5\n",
            "val_loss: 0.2182532250881195 , val_acc: 0.9210000038146973\n",
            "--------------------------------------------------\n",
            "63/63 [==============================] - 4s 13ms/step - loss: 0.2234 - acc: 0.9175\n",
            "/content/drive/MyDrive/My_Models/ModelLstm_Mohammed_Maher.h5\n",
            "val_loss: 0.2234402894973755 , val_acc: 0.9175000190734863\n",
            "--------------------------------------------------\n",
            "63/63 [==============================] - 8s 31ms/step - loss: 0.1893 - acc: 0.9245\n",
            "/content/drive/MyDrive/My_Models/ModelBiGru_Mohammed_Maher.h5\n",
            "val_loss: 0.18930864334106445 , val_acc: 0.9244999885559082\n",
            "--------------------------------------------------\n",
            "63/63 [==============================] - 3s 11ms/step - loss: 0.2207 - acc: 0.9185\n",
            "/content/drive/MyDrive/My_Models/ModelGru_Mohammed_Maher.h5\n",
            "val_loss: 0.22068734467029572 , val_acc: 0.9185000061988831\n",
            "--------------------------------------------------\n",
            "63/63 [==============================] - 4s 16ms/step - loss: 0.1766 - acc: 0.9270\n",
            "/content/drive/MyDrive/My_Models/Gru2Model_Mohammed_Maher.h5\n",
            "val_loss: 0.1766192615032196 , val_acc: 0.9269999861717224\n",
            "--------------------------------------------------\n"
          ]
        }
      ]
    },
    {
      "cell_type": "code",
      "source": [
        "print(f'The best model is:\\n{best_model_path}')"
      ],
      "metadata": {
        "colab": {
          "base_uri": "https://localhost:8080/"
        },
        "id": "kJFGZ4l486pZ",
        "outputId": "3e5c6ee6-2a4d-4dbe-9ffc-d29bda0b1844"
      },
      "execution_count": null,
      "outputs": [
        {
          "output_type": "stream",
          "name": "stdout",
          "text": [
            "The best model is:\n",
            "/content/drive/MyDrive/My_Models/Gru2Model_Mohammed_Maher.h5\n"
          ]
        }
      ]
    },
    {
      "cell_type": "code",
      "source": [
        "def predict(text):\n",
        "  best_model = tf.keras.models.load_model(best_model_path)\n",
        "\n",
        "  tokenized_texts = text_tok.texts_to_sequences([text])\n",
        "  input = tf.keras.preprocessing.sequence.pad_sequences(tokenized_texts, maxlen=64, padding='post')\n",
        "\n",
        "  output = best_model.predict(input)\n",
        "  label=[]\n",
        "  for index in indx_label_output:\n",
        "    label.append(indx_label_output[index])\n",
        "  value_emoji=label\n",
        "    \n",
        "  print(value_emoji[np.argmax(output) ])"
      ],
      "metadata": {
        "id": "4aeDiwV77-UU"
      },
      "execution_count": null,
      "outputs": []
    },
    {
      "cell_type": "code",
      "source": [
        "input_text = \"We had such a lovely dinner tonight\"\n",
        "predict(input_text)"
      ],
      "metadata": {
        "colab": {
          "base_uri": "https://localhost:8080/"
        },
        "id": "l2oLbH7qIxi7",
        "outputId": "f5e3fa38-0cb3-41f4-db3f-95a95db9000c"
      },
      "execution_count": null,
      "outputs": [
        {
          "output_type": "stream",
          "name": "stdout",
          "text": [
            "😍\n"
          ]
        }
      ]
    },
    {
      "cell_type": "code",
      "source": [
        "input_text = \"she is kind and pretty girl\"\n",
        "predict(input_text)"
      ],
      "metadata": {
        "colab": {
          "base_uri": "https://localhost:8080/"
        },
        "id": "JaTDr4JyJqdT",
        "outputId": "dc094e54-4e4e-4b31-af6d-462d4fa21e3d"
      },
      "execution_count": null,
      "outputs": [
        {
          "output_type": "stream",
          "name": "stdout",
          "text": [
            "😢\n"
          ]
        }
      ]
    }
  ]
}