{
  "cells": [
    {
      "cell_type": "markdown",
      "metadata": {
        "id": "AU78WMPocdFw"
      },
      "source": [
        "#Assignment 04: Deep Learning Algorithms \n",
        "\n",
        "This Week's assignment is to train Deep Learning and Machine Learning algorithms on the `fashion_mnist` images dataset to accurately predict the type of clothes in the image.\n",
        "\n",
        "Before starting copy this file and work on your own copy by following the below steps: \n",
        "`File > Save Copy in Drive`. Then add your name to the file (e.g., Assignment 04: Deep Learning - Muntadher Alkaabi).\n",
        "\n",
        "\n",
        "**Submission Deadline: Thursday, 2/10/2022 at 3:00 PM**\n",
        "\n",
        "**Requirements:**\n",
        "\n",
        "1. Import all necessary libraries for the machine learning project.\n",
        "2. Download the dataset using `tf.keras.datasets`.\n",
        "3. Make sure the pixels values are scaled between (`0-1`).\n",
        "4. Make sure to convert the target into one hot vector.\n",
        "5. Train six different Machine Learning models (`KNN`, `Logistics Regression`, `Support Vector Machine`, `Decision Tree`, `Random Forest`, `DNN`).\n",
        "\n",
        "\n",
        "6. Make sure to achieve the following results for the testing data:\n",
        "<br> Accuracy equal or above \"95%\", and Loss equal or below \"0.1\". \n",
        "7. Plot the loss and validation loss values from the training history of the DNN model.\n",
        "8. Use the right evaluation metrics to choose the best model (write down your choice of the best model).\n",
        "\n",
        "\n",
        "**Note:** To get the best performance from the model, manually tune the hyperparameters of each model.\n",
        "\n",
        "Find relevant links below:\n",
        "\n",
        "[Submission Form](https://docs.google.com/forms/d/e/1FAIpQLScPUIMjrlCk9Px0ioSE9xLViJO9r-Q1EymwXxXcJmQuHmIEHA/viewform?usp=pp_url)\n",
        "\n",
        "Good luck and feel free to ask any questions in the or on the Questions channel."
      ]
    },
    {
      "cell_type": "markdown",
      "metadata": {
        "id": "w829qkPAq9qS"
      },
      "source": [
        "# 1- Import all necessary libraries for the machine learning project."
      ]
    },
    {
      "cell_type": "code",
      "execution_count": null,
      "metadata": {
        "id": "uBdm7aY-UqVx"
      },
      "outputs": [],
      "source": [
        "# import the necessary libraries\n",
        "import tensorflow as tf\n",
        "import matplotlib.pyplot as plt\n",
        "import matplotlib.ticker as tkr\n",
        "import pandas as pd\n",
        "import numpy as np\n",
        "from sklearn import neighbors,tree,linear_model,ensemble,svm,metrics\n"
      ]
    },
    {
      "cell_type": "markdown",
      "metadata": {
        "id": "6g4tht-nmweh"
      },
      "source": [
        "# 2- Download the dataset using tf.keras.dataset"
      ]
    },
    {
      "cell_type": "code",
      "execution_count": null,
      "metadata": {
        "id": "cGhdu-K3dCwn"
      },
      "outputs": [],
      "source": [
        "# download the required dataset\n",
        "fashion_mnist = tf.keras.datasets.fashion_mnist.load_data()\n",
        "\n",
        "(x_train,y_train),(x_test,y_test)=fashion_mnist"
      ]
    },
    {
      "cell_type": "code",
      "execution_count": null,
      "metadata": {
        "colab": {
          "base_uri": "https://localhost:8080/",
          "height": 283
        },
        "id": "kBMYbkgtrP5w",
        "outputId": "2286dfbe-a183-414d-a76e-316e6d26ec30"
      },
      "outputs": [
        {
          "output_type": "execute_result",
          "data": {
            "text/plain": [
              "<matplotlib.image.AxesImage at 0x7f58a17f23d0>"
            ]
          },
          "metadata": {},
          "execution_count": 3
        },
        {
          "output_type": "display_data",
          "data": {
            "image/png": "[encoded data removed]",
            "text/plain": [
              "<Figure size 432x288 with 1 Axes>"
            ]
          },
          "metadata": {
            "needs_background": "light"
          }
        }
      ],
      "source": [
        "# plot image samples from the dataset \n",
        "\n",
        "plt.imshow(x_train[0])"
      ]
    },
    {
      "cell_type": "code",
      "execution_count": null,
      "metadata": {
        "colab": {
          "base_uri": "https://localhost:8080/"
        },
        "id": "wlb_i9T3rk8f",
        "outputId": "f89e5b48-49fd-4966-d0c6-78b89fe83377"
      },
      "outputs": [
        {
          "output_type": "stream",
          "name": "stdout",
          "text": [
            "(60000, 28, 28)\n",
            "(60000,)\n",
            "(10000, 28, 28)\n",
            "(10000,)\n"
          ]
        }
      ],
      "source": [
        "from numpy.core.fromnumeric import reshape\n",
        "# check the shape of the following (x_train, y_train and x_test, y_test)\n",
        "\n",
        "print(x_train.shape)\n",
        "print(y_train.shape)\n",
        "print(x_test.shape)\n",
        "print(y_test.shape)"
      ]
    },
    {
      "cell_type": "code",
      "execution_count": null,
      "metadata": {
        "colab": {
          "base_uri": "https://localhost:8080/",
          "height": 334
        },
        "id": "7ZWgBTqKsAAL",
        "outputId": "56f3a4b0-b899-48b4-fae9-2739031aed95"
      },
      "outputs": [
        {
          "output_type": "display_data",
          "data": {
            "image/png": "[encoded data removed]",
            "text/plain": [
              "<Figure size 1080x360 with 2 Axes>"
            ]
          },
          "metadata": {
            "needs_background": "light"
          }
        }
      ],
      "source": [
        "\n",
        "\n",
        "\n",
        "mybins = range(11)\n",
        "fig = plt.figure(figsize=(15,5))\n",
        "ax = fig.subplots(nrows=1, ncols=2) \n",
        "ax[0].set_title('y_train')\n",
        "\n",
        "ax[0].hist(y_train, bins=mybins, rwidth=0.8)\n",
        "ax[0].set_xticks(mybins)\n",
        "ax[0].xaxis.set_minor_locator(tkr.AutoMinorLocator(n=2))\n",
        "ax[0].xaxis.set_minor_formatter(tkr.FixedFormatter(mybins))\n",
        "ax[0].xaxis.set_major_formatter(tkr.NullFormatter())\n",
        "for tick in ax[0].xaxis.get_minor_ticks():\n",
        "  tick.tick1line.set_markersize(0)\n",
        "ax[1].set_title('y_test')\n",
        "ax[1].hist(y_test, bins=mybins, rwidth=0.8)\n",
        "ax[1].set_xticks(mybins)\n",
        "ax[1].xaxis.set_minor_locator(tkr.AutoMinorLocator(n=2))\n",
        "ax[1].xaxis.set_minor_formatter(tkr.FixedFormatter(mybins))\n",
        "ax[1].xaxis.set_major_formatter(tkr.NullFormatter())\n",
        "for tick in ax[1].xaxis.get_minor_ticks():\n",
        "  tick.tick1line.set_markersize(0)\n",
        "        \n",
        "\n",
        "\n",
        "\n",
        "plt.show()\n",
        "\n"
      ]
    },
    {
      "cell_type": "markdown",
      "metadata": {
        "id": "M_uRTiZJnLgq"
      },
      "source": [
        "# 3- Make sure the pixels values are scaled between (0-1)"
      ]
    },
    {
      "cell_type": "code",
      "execution_count": null,
      "metadata": {
        "id": "9bmGWG22nUnz"
      },
      "outputs": [],
      "source": [
        "# scale the pixels values between 0-1\n",
        "x_train=x_train/255.0\n",
        "x_test=x_test/255.0\n"
      ]
    },
    {
      "cell_type": "code",
      "execution_count": null,
      "metadata": {
        "id": "VUgkrG2gusaT",
        "colab": {
          "base_uri": "https://localhost:8080/"
        },
        "outputId": "dd39968c-80a7-4bdf-8a43-75880fb9e789"
      },
      "outputs": [
        {
          "output_type": "stream",
          "name": "stdout",
          "text": [
            "x-train (60000, 784)\n",
            "x-test (10000, 784)\n"
          ]
        }
      ],
      "source": [
        "# convert the images into vectors\n",
        "x_train_v=np.reshape(x_train,(len(x_train),28*28))\n",
        "print(f'x-train {x_train_v.shape}')\n",
        "x_test_v=np.reshape(x_test,(len(x_test),28*28))\n",
        "print(f'x-test {x_test_v.shape}')"
      ]
    },
    {
      "cell_type": "markdown",
      "metadata": {
        "id": "ckUtAjXWnXFl"
      },
      "source": [
        "# 4- Make sure to convert the target into one hot vector"
      ]
    },
    {
      "cell_type": "code",
      "execution_count": null,
      "metadata": {
        "id": "p_C9e67fq_TJ",
        "colab": {
          "base_uri": "https://localhost:8080/"
        },
        "outputId": "9c72ce7b-9f24-4145-ec1b-9e856dc86fd0"
      },
      "outputs": [
        {
          "output_type": "stream",
          "name": "stdout",
          "text": [
            "y-train-hot(60000, 10)\n",
            "y-test-hot(10000, 10)\n",
            "one hot encoder for first image [0. 0. 0. 0. 0. 0. 0. 0. 0. 1.]\n",
            "value of first image 9\n"
          ]
        }
      ],
      "source": [
        "# encode the training and testing target into one hot vector\n",
        "\n",
        "y_train_hot=tf.one_hot(y_train,depth=len(set(y_train)))\n",
        "y_test_hot=tf.one_hot(y_test,depth=len(set(y_train)))\n",
        "print(f'y-train-hot{y_train_hot.shape}')\n",
        "print(f'y-test-hot{y_test_hot.shape}')\n",
        "print(f'one hot encoder for first image { y_test_hot[0]}')\n",
        "print(f'value of first image {y_test[0]}')"
      ]
    },
    {
      "cell_type": "markdown",
      "metadata": {
        "id": "HCe35fm1nlS4"
      },
      "source": [
        "# 5- Modeling\n",
        "Train six different models (KNN, Logistics Regression, Support Vector Machine, Decision Tree, Random Forest, DNN)\n",
        "\n",
        "\n",
        "**Note:**\n",
        "1. Make sure to saperate each model in a new sub-section.\n",
        "2. Make sure to achieve the following results for the testing data: \n",
        "<br> Accuracy equal or above \"95%\", and Loss equal or below \"0.1\".\n",
        "3. Plot the loss and validation loss values from the training history of the DNN model.\n",
        "4. Use the right evaluation metrics to choose the best model (write down your choice of the best model)."
      ]
    },
    {
      "cell_type": "markdown",
      "metadata": {
        "id": "KRmmqYZKtA5F"
      },
      "source": [
        "## KNN Model"
      ]
    },
    {
      "cell_type": "code",
      "execution_count": null,
      "metadata": {
        "id": "xCO4b9WNnqd8",
        "colab": {
          "base_uri": "https://localhost:8080/"
        },
        "outputId": "9678a0cd-fa8b-4870-978c-fc9b6348ee7e"
      },
      "outputs": [
        {
          "output_type": "execute_result",
          "data": {
            "text/plain": [
              "KNeighborsClassifier(n_neighbors=3)"
            ]
          },
          "metadata": {},
          "execution_count": 9
        }
      ],
      "source": [
        "# build the model\n",
        "model_KNN= neighbors.KNeighborsClassifier(n_neighbors=3)\n",
        "model_KNN.fit(x_train_v,y_train)"
      ]
    },
    {
      "cell_type": "markdown",
      "metadata": {
        "id": "VFovve_stFuW"
      },
      "source": [
        "### Model evaluation"
      ]
    },
    {
      "cell_type": "code",
      "execution_count": null,
      "metadata": {
        "id": "AVgt0P_LtOKD",
        "colab": {
          "base_uri": "https://localhost:8080/",
          "height": 389
        },
        "outputId": "0635bdee-633d-4e7e-899e-5598de120d80"
      },
      "outputs": [
        {
          "output_type": "error",
          "ename": "KeyboardInterrupt",
          "evalue": "ignored",
          "traceback": [
            "\u001b[0;31m---------------------------------------------------------------------------\u001b[0m",
            "\u001b[0;31mKeyboardInterrupt\u001b[0m                         Traceback (most recent call last)",
            "\u001b[0;32m<ipython-input-10-9557d55fb867>\u001b[0m in \u001b[0;36m<module>\u001b[0;34m()\u001b[0m\n\u001b[1;32m      1\u001b[0m \u001b[0;31m# evaluate the model\u001b[0m\u001b[0;34m\u001b[0m\u001b[0;34m\u001b[0m\u001b[0;34m\u001b[0m\u001b[0m\n\u001b[0;32m----> 2\u001b[0;31m \u001b[0mpred_KNN\u001b[0m \u001b[0;34m=\u001b[0m \u001b[0mmodel_KNN\u001b[0m\u001b[0;34m.\u001b[0m\u001b[0mpredict\u001b[0m\u001b[0;34m(\u001b[0m\u001b[0mx_test_v\u001b[0m\u001b[0;34m)\u001b[0m\u001b[0;34m\u001b[0m\u001b[0;34m\u001b[0m\u001b[0m\n\u001b[0m\u001b[1;32m      3\u001b[0m \u001b[0mprint\u001b[0m\u001b[0;34m(\u001b[0m\u001b[0;34mf\"acc : {metrics.accuracy_score(y_test,pred_KNN)}\"\u001b[0m\u001b[0;34m)\u001b[0m\u001b[0;34m\u001b[0m\u001b[0;34m\u001b[0m\u001b[0m\n\u001b[1;32m      4\u001b[0m \u001b[0mprint\u001b[0m\u001b[0;34m(\u001b[0m\u001b[0;34mf\"Precision : {metrics.precision_score(y_test,pred_KNN, average='weighted')}\"\u001b[0m\u001b[0;34m)\u001b[0m\u001b[0;34m\u001b[0m\u001b[0;34m\u001b[0m\u001b[0m\n\u001b[1;32m      5\u001b[0m \u001b[0mprint\u001b[0m\u001b[0;34m(\u001b[0m\u001b[0;34mf\"recall_score : {metrics.recall_score(y_test,pred_KNN,average='weighted')}\"\u001b[0m\u001b[0;34m)\u001b[0m\u001b[0;34m\u001b[0m\u001b[0;34m\u001b[0m\u001b[0m\n",
            "\u001b[0;32m/usr/local/lib/python3.7/dist-packages/sklearn/neighbors/_classification.py\u001b[0m in \u001b[0;36mpredict\u001b[0;34m(self, X)\u001b[0m\n\u001b[1;32m    212\u001b[0m             \u001b[0mClass\u001b[0m \u001b[0mlabels\u001b[0m \u001b[0;32mfor\u001b[0m \u001b[0meach\u001b[0m \u001b[0mdata\u001b[0m \u001b[0msample\u001b[0m\u001b[0;34m.\u001b[0m\u001b[0;34m\u001b[0m\u001b[0;34m\u001b[0m\u001b[0m\n\u001b[1;32m    213\u001b[0m         \"\"\"\n\u001b[0;32m--> 214\u001b[0;31m         \u001b[0mneigh_dist\u001b[0m\u001b[0;34m,\u001b[0m \u001b[0mneigh_ind\u001b[0m \u001b[0;34m=\u001b[0m \u001b[0mself\u001b[0m\u001b[0;34m.\u001b[0m\u001b[0mkneighbors\u001b[0m\u001b[0;34m(\u001b[0m\u001b[0mX\u001b[0m\u001b[0;34m)\u001b[0m\u001b[0;34m\u001b[0m\u001b[0;34m\u001b[0m\u001b[0m\n\u001b[0m\u001b[1;32m    215\u001b[0m         \u001b[0mclasses_\u001b[0m \u001b[0;34m=\u001b[0m \u001b[0mself\u001b[0m\u001b[0;34m.\u001b[0m\u001b[0mclasses_\u001b[0m\u001b[0;34m\u001b[0m\u001b[0;34m\u001b[0m\u001b[0m\n\u001b[1;32m    216\u001b[0m         \u001b[0m_y\u001b[0m \u001b[0;34m=\u001b[0m \u001b[0mself\u001b[0m\u001b[0;34m.\u001b[0m\u001b[0m_y\u001b[0m\u001b[0;34m\u001b[0m\u001b[0;34m\u001b[0m\u001b[0m\n",
            "\u001b[0;32m/usr/local/lib/python3.7/dist-packages/sklearn/neighbors/_base.py\u001b[0m in \u001b[0;36mkneighbors\u001b[0;34m(self, X, n_neighbors, return_distance)\u001b[0m\n\u001b[1;32m    757\u001b[0m                     \u001b[0mmetric\u001b[0m\u001b[0;34m=\u001b[0m\u001b[0mself\u001b[0m\u001b[0;34m.\u001b[0m\u001b[0meffective_metric_\u001b[0m\u001b[0;34m,\u001b[0m\u001b[0;34m\u001b[0m\u001b[0;34m\u001b[0m\u001b[0m\n\u001b[1;32m    758\u001b[0m                     \u001b[0mn_jobs\u001b[0m\u001b[0;34m=\u001b[0m\u001b[0mn_jobs\u001b[0m\u001b[0;34m,\u001b[0m\u001b[0;34m\u001b[0m\u001b[0;34m\u001b[0m\u001b[0m\n\u001b[0;32m--> 759\u001b[0;31m                     \u001b[0;34m**\u001b[0m\u001b[0mkwds\u001b[0m\u001b[0;34m,\u001b[0m\u001b[0;34m\u001b[0m\u001b[0;34m\u001b[0m\u001b[0m\n\u001b[0m\u001b[1;32m    760\u001b[0m                 )\n\u001b[1;32m    761\u001b[0m             )\n",
            "\u001b[0;32m/usr/local/lib/python3.7/dist-packages/sklearn/metrics/pairwise.py\u001b[0m in \u001b[0;36mpairwise_distances_chunked\u001b[0;34m(X, Y, reduce_func, metric, n_jobs, working_memory, **kwds)\u001b[0m\n\u001b[1;32m   1715\u001b[0m         \u001b[0;32melse\u001b[0m\u001b[0;34m:\u001b[0m\u001b[0;34m\u001b[0m\u001b[0;34m\u001b[0m\u001b[0m\n\u001b[1;32m   1716\u001b[0m             \u001b[0mX_chunk\u001b[0m \u001b[0;34m=\u001b[0m \u001b[0mX\u001b[0m\u001b[0;34m[\u001b[0m\u001b[0msl\u001b[0m\u001b[0;34m]\u001b[0m\u001b[0;34m\u001b[0m\u001b[0;34m\u001b[0m\u001b[0m\n\u001b[0;32m-> 1717\u001b[0;31m         \u001b[0mD_chunk\u001b[0m \u001b[0;34m=\u001b[0m \u001b[0mpairwise_distances\u001b[0m\u001b[0;34m(\u001b[0m\u001b[0mX_chunk\u001b[0m\u001b[0;34m,\u001b[0m \u001b[0mY\u001b[0m\u001b[0;34m,\u001b[0m \u001b[0mmetric\u001b[0m\u001b[0;34m=\u001b[0m\u001b[0mmetric\u001b[0m\u001b[0;34m,\u001b[0m \u001b[0mn_jobs\u001b[0m\u001b[0;34m=\u001b[0m\u001b[0mn_jobs\u001b[0m\u001b[0;34m,\u001b[0m \u001b[0;34m**\u001b[0m\u001b[0mkwds\u001b[0m\u001b[0;34m)\u001b[0m\u001b[0;34m\u001b[0m\u001b[0;34m\u001b[0m\u001b[0m\n\u001b[0m\u001b[1;32m   1718\u001b[0m         if (X is Y or Y is None) and PAIRWISE_DISTANCE_FUNCTIONS.get(\n\u001b[1;32m   1719\u001b[0m             \u001b[0mmetric\u001b[0m\u001b[0;34m,\u001b[0m \u001b[0;32mNone\u001b[0m\u001b[0;34m\u001b[0m\u001b[0;34m\u001b[0m\u001b[0m\n",
            "\u001b[0;32m/usr/local/lib/python3.7/dist-packages/sklearn/metrics/pairwise.py\u001b[0m in \u001b[0;36mpairwise_distances\u001b[0;34m(X, Y, metric, n_jobs, force_all_finite, **kwds)\u001b[0m\n\u001b[1;32m   1887\u001b[0m         \u001b[0mfunc\u001b[0m \u001b[0;34m=\u001b[0m \u001b[0mpartial\u001b[0m\u001b[0;34m(\u001b[0m\u001b[0mdistance\u001b[0m\u001b[0;34m.\u001b[0m\u001b[0mcdist\u001b[0m\u001b[0;34m,\u001b[0m \u001b[0mmetric\u001b[0m\u001b[0;34m=\u001b[0m\u001b[0mmetric\u001b[0m\u001b[0;34m,\u001b[0m \u001b[0;34m**\u001b[0m\u001b[0mkwds\u001b[0m\u001b[0;34m)\u001b[0m\u001b[0;34m\u001b[0m\u001b[0;34m\u001b[0m\u001b[0m\n\u001b[1;32m   1888\u001b[0m \u001b[0;34m\u001b[0m\u001b[0m\n\u001b[0;32m-> 1889\u001b[0;31m     \u001b[0;32mreturn\u001b[0m \u001b[0m_parallel_pairwise\u001b[0m\u001b[0;34m(\u001b[0m\u001b[0mX\u001b[0m\u001b[0;34m,\u001b[0m \u001b[0mY\u001b[0m\u001b[0;34m,\u001b[0m \u001b[0mfunc\u001b[0m\u001b[0;34m,\u001b[0m \u001b[0mn_jobs\u001b[0m\u001b[0;34m,\u001b[0m \u001b[0;34m**\u001b[0m\u001b[0mkwds\u001b[0m\u001b[0;34m)\u001b[0m\u001b[0;34m\u001b[0m\u001b[0;34m\u001b[0m\u001b[0m\n\u001b[0m\u001b[1;32m   1890\u001b[0m \u001b[0;34m\u001b[0m\u001b[0m\n\u001b[1;32m   1891\u001b[0m \u001b[0;34m\u001b[0m\u001b[0m\n",
            "\u001b[0;32m/usr/local/lib/python3.7/dist-packages/sklearn/metrics/pairwise.py\u001b[0m in \u001b[0;36m_parallel_pairwise\u001b[0;34m(X, Y, func, n_jobs, **kwds)\u001b[0m\n\u001b[1;32m   1428\u001b[0m \u001b[0;34m\u001b[0m\u001b[0m\n\u001b[1;32m   1429\u001b[0m     \u001b[0;32mif\u001b[0m \u001b[0meffective_n_jobs\u001b[0m\u001b[0;34m(\u001b[0m\u001b[0mn_jobs\u001b[0m\u001b[0;34m)\u001b[0m \u001b[0;34m==\u001b[0m \u001b[0;36m1\u001b[0m\u001b[0;34m:\u001b[0m\u001b[0;34m\u001b[0m\u001b[0;34m\u001b[0m\u001b[0m\n\u001b[0;32m-> 1430\u001b[0;31m         \u001b[0;32mreturn\u001b[0m \u001b[0mfunc\u001b[0m\u001b[0;34m(\u001b[0m\u001b[0mX\u001b[0m\u001b[0;34m,\u001b[0m \u001b[0mY\u001b[0m\u001b[0;34m,\u001b[0m \u001b[0;34m**\u001b[0m\u001b[0mkwds\u001b[0m\u001b[0;34m)\u001b[0m\u001b[0;34m\u001b[0m\u001b[0;34m\u001b[0m\u001b[0m\n\u001b[0m\u001b[1;32m   1431\u001b[0m \u001b[0;34m\u001b[0m\u001b[0m\n\u001b[1;32m   1432\u001b[0m     \u001b[0;31m# enforce a threading backend to prevent data communication overhead\u001b[0m\u001b[0;34m\u001b[0m\u001b[0;34m\u001b[0m\u001b[0;34m\u001b[0m\u001b[0m\n",
            "\u001b[0;32m/usr/local/lib/python3.7/dist-packages/sklearn/metrics/pairwise.py\u001b[0m in \u001b[0;36meuclidean_distances\u001b[0;34m(X, Y, Y_norm_squared, squared, X_norm_squared)\u001b[0m\n\u001b[1;32m    328\u001b[0m             )\n\u001b[1;32m    329\u001b[0m \u001b[0;34m\u001b[0m\u001b[0m\n\u001b[0;32m--> 330\u001b[0;31m     \u001b[0;32mreturn\u001b[0m \u001b[0m_euclidean_distances\u001b[0m\u001b[0;34m(\u001b[0m\u001b[0mX\u001b[0m\u001b[0;34m,\u001b[0m \u001b[0mY\u001b[0m\u001b[0;34m,\u001b[0m \u001b[0mX_norm_squared\u001b[0m\u001b[0;34m,\u001b[0m \u001b[0mY_norm_squared\u001b[0m\u001b[0;34m,\u001b[0m \u001b[0msquared\u001b[0m\u001b[0;34m)\u001b[0m\u001b[0;34m\u001b[0m\u001b[0;34m\u001b[0m\u001b[0m\n\u001b[0m\u001b[1;32m    331\u001b[0m \u001b[0;34m\u001b[0m\u001b[0m\n\u001b[1;32m    332\u001b[0m \u001b[0;34m\u001b[0m\u001b[0m\n",
            "\u001b[0;32m/usr/local/lib/python3.7/dist-packages/sklearn/metrics/pairwise.py\u001b[0m in \u001b[0;36m_euclidean_distances\u001b[0;34m(X, Y, X_norm_squared, Y_norm_squared, squared)\u001b[0m\n\u001b[1;32m    369\u001b[0m     \u001b[0;32melse\u001b[0m\u001b[0;34m:\u001b[0m\u001b[0;34m\u001b[0m\u001b[0;34m\u001b[0m\u001b[0m\n\u001b[1;32m    370\u001b[0m         \u001b[0;31m# if dtype is already float64, no need to chunk and upcast\u001b[0m\u001b[0;34m\u001b[0m\u001b[0;34m\u001b[0m\u001b[0;34m\u001b[0m\u001b[0m\n\u001b[0;32m--> 371\u001b[0;31m         \u001b[0mdistances\u001b[0m \u001b[0;34m=\u001b[0m \u001b[0;34m-\u001b[0m\u001b[0;36m2\u001b[0m \u001b[0;34m*\u001b[0m \u001b[0msafe_sparse_dot\u001b[0m\u001b[0;34m(\u001b[0m\u001b[0mX\u001b[0m\u001b[0;34m,\u001b[0m \u001b[0mY\u001b[0m\u001b[0;34m.\u001b[0m\u001b[0mT\u001b[0m\u001b[0;34m,\u001b[0m \u001b[0mdense_output\u001b[0m\u001b[0;34m=\u001b[0m\u001b[0;32mTrue\u001b[0m\u001b[0;34m)\u001b[0m\u001b[0;34m\u001b[0m\u001b[0;34m\u001b[0m\u001b[0m\n\u001b[0m\u001b[1;32m    372\u001b[0m         \u001b[0mdistances\u001b[0m \u001b[0;34m+=\u001b[0m \u001b[0mXX\u001b[0m\u001b[0;34m\u001b[0m\u001b[0;34m\u001b[0m\u001b[0m\n\u001b[1;32m    373\u001b[0m         \u001b[0mdistances\u001b[0m \u001b[0;34m+=\u001b[0m \u001b[0mYY\u001b[0m\u001b[0;34m\u001b[0m\u001b[0;34m\u001b[0m\u001b[0m\n",
            "\u001b[0;32m/usr/local/lib/python3.7/dist-packages/sklearn/utils/extmath.py\u001b[0m in \u001b[0;36msafe_sparse_dot\u001b[0;34m(a, b, dense_output)\u001b[0m\n\u001b[1;32m    151\u001b[0m             \u001b[0mret\u001b[0m \u001b[0;34m=\u001b[0m \u001b[0mnp\u001b[0m\u001b[0;34m.\u001b[0m\u001b[0mdot\u001b[0m\u001b[0;34m(\u001b[0m\u001b[0ma\u001b[0m\u001b[0;34m,\u001b[0m \u001b[0mb\u001b[0m\u001b[0;34m)\u001b[0m\u001b[0;34m\u001b[0m\u001b[0;34m\u001b[0m\u001b[0m\n\u001b[1;32m    152\u001b[0m     \u001b[0;32melse\u001b[0m\u001b[0;34m:\u001b[0m\u001b[0;34m\u001b[0m\u001b[0;34m\u001b[0m\u001b[0m\n\u001b[0;32m--> 153\u001b[0;31m         \u001b[0mret\u001b[0m \u001b[0;34m=\u001b[0m \u001b[0ma\u001b[0m \u001b[0;34m@\u001b[0m \u001b[0mb\u001b[0m\u001b[0;34m\u001b[0m\u001b[0;34m\u001b[0m\u001b[0m\n\u001b[0m\u001b[1;32m    154\u001b[0m \u001b[0;34m\u001b[0m\u001b[0m\n\u001b[1;32m    155\u001b[0m     if (\n",
            "\u001b[0;31mKeyboardInterrupt\u001b[0m: "
          ]
        }
      ],
      "source": [
        "# evaluate the model\n",
        "pred_KNN = model_KNN.predict(x_test_v)\n",
        "print(f\"acc : {metrics.accuracy_score(y_test,pred_KNN)}\")\n",
        "print(f\"Precision : {metrics.precision_score(y_test,pred_KNN, average='weighted')}\")\n",
        "print(f\"recall_score : {metrics.recall_score(y_test,pred_KNN,average='weighted')}\")\n",
        "print(f\"f1 : {metrics.f1_score(y_test,pred_KNN,average='weighted')}\")"
      ]
    },
    {
      "cell_type": "markdown",
      "metadata": {
        "id": "E99L1DmM2yvx"
      },
      "source": []
    },
    {
      "cell_type": "markdown",
      "metadata": {
        "id": "TdhKudr533_0"
      },
      "source": [
        "## Logistics Regression Model"
      ]
    },
    {
      "cell_type": "code",
      "execution_count": null,
      "metadata": {
        "id": "cscwvJby33_3"
      },
      "outputs": [],
      "source": [
        "# build the model\n",
        "model_LR = linear_model.LogisticRegression()\n",
        "model_LR.fit(x_train_v, y_train)"
      ]
    },
    {
      "cell_type": "markdown",
      "metadata": {
        "id": "14cpzAXe33_4"
      },
      "source": [
        "### Model evaluation"
      ]
    },
    {
      "cell_type": "code",
      "execution_count": null,
      "metadata": {
        "id": "hbYcY4l933_4"
      },
      "outputs": [],
      "source": [
        "# evaluate the model\n",
        "pred_LR = model_LR.predict(x_test_v)\n",
        "print(f\"acc : {metrics.accuracy_score(y_test,pred_LR)}\")\n",
        "print(f\"Precision : {metrics.precision_score(y_test,pred_LR,average='weighted')}\")\n",
        "print(f\"recall_score : {metrics.recall_score(y_test,pred_LR,average='weighted')}\")\n",
        "print(f\"f1 : {metrics.f1_score(y_test,pred_LR,average='weighted')}\")"
      ]
    },
    {
      "cell_type": "markdown",
      "metadata": {
        "id": "DKQSpN-Z33_5"
      },
      "source": []
    },
    {
      "cell_type": "markdown",
      "metadata": {
        "id": "cmOW5bW936DF"
      },
      "source": [
        "## Support Vector Machine Model"
      ]
    },
    {
      "cell_type": "code",
      "execution_count": null,
      "metadata": {
        "id": "bIQK-mov36DH"
      },
      "outputs": [],
      "source": [
        "# build the model\n",
        "model_svm = svm.SVC(C=1, kernel='rbf',gamma=\"scale\")\n",
        "model_svm.fit(x_train_v,y_train)"
      ]
    },
    {
      "cell_type": "markdown",
      "metadata": {
        "id": "c_6RpuBV36DH"
      },
      "source": [
        "### Model evaluation"
      ]
    },
    {
      "cell_type": "code",
      "execution_count": null,
      "metadata": {
        "id": "uK9Yh08I36DI"
      },
      "outputs": [],
      "source": [
        "# evaluate the model\n",
        "pred_svm = model_svm.predict(x_test_v)\n",
        "print(f\"acc : {metrics.accuracy_score(y_test,pred_svm)}\")\n",
        "print(f'Precision : {metrics.precision_score(y_test,pred_svm,average=\"weighted\")}')\n",
        "print(f'recall_score : {metrics.recall_score(y_test,pred_svm,average=\"weighted\")}')\n",
        "print(f\"f1 : {metrics.f1_score(y_test,pred_svm,average='weighted')}\")"
      ]
    },
    {
      "cell_type": "markdown",
      "metadata": {
        "id": "STSKwixj36DI"
      },
      "source": []
    },
    {
      "cell_type": "markdown",
      "metadata": {
        "id": "VHB78UWZ38hq"
      },
      "source": [
        "## Decision Tree Model"
      ]
    },
    {
      "cell_type": "code",
      "execution_count": null,
      "metadata": {
        "id": "L3_-K4if38hr"
      },
      "outputs": [],
      "source": [
        "# build the model\n",
        "model_tree = tree.DecisionTreeClassifier()\n",
        "model_tree.fit(x_train_v,y_train)"
      ]
    },
    {
      "cell_type": "markdown",
      "metadata": {
        "id": "cFx_u67g38hr"
      },
      "source": [
        "### Model evaluation"
      ]
    },
    {
      "cell_type": "code",
      "execution_count": null,
      "metadata": {
        "id": "53U4_krl38hs"
      },
      "outputs": [],
      "source": [
        "# evaluate the model\n",
        "pred_tree = model_tree.predict(x_test_v)\n",
        "print(f\"acc : {metrics.accuracy_score(y_test,pred_tree)}\")\n",
        "print(f\"Precision : {metrics.precision_score(y_test,pred_tree,average='weighted')}\")\n",
        "print(f\"recall_score : {metrics.recall_score(y_test,pred_tree,average='weighted')}\")\n",
        "print(f\"f1 : {metrics.f1_score(y_test,pred_tree,average='weighted')}\")"
      ]
    },
    {
      "cell_type": "markdown",
      "metadata": {
        "id": "n1qLVorK38hs"
      },
      "source": []
    },
    {
      "cell_type": "markdown",
      "metadata": {
        "id": "LVVk8-Uo3_ew"
      },
      "source": [
        "## Random Forest Model"
      ]
    },
    {
      "cell_type": "code",
      "execution_count": null,
      "metadata": {
        "id": "YuvD2rxH3_ez"
      },
      "outputs": [],
      "source": [
        "# build the model\n",
        "model_random_forest = ensemble.RandomForestClassifier(n_estimators=10, max_depth=15, random_state=42, n_jobs=-1, oob_score=True)\n",
        "model_random_forest.fit(x_train_v, y_train)"
      ]
    },
    {
      "cell_type": "markdown",
      "metadata": {
        "id": "Qq8e8w0X3_e0"
      },
      "source": [
        "### Model evaluation"
      ]
    },
    {
      "cell_type": "code",
      "execution_count": null,
      "metadata": {
        "id": "nYIzPVBH3_e0"
      },
      "outputs": [],
      "source": [
        "# evaluate the model\n",
        "pred_rf=model_random_forest.predict(x_test_v)\n",
        "print(f\"acc : {metrics.accuracy_score(y_test,pred_rf)}\")\n",
        "print(f\"Precision : {metrics.precision_score(y_test,pred_rf,average='weighted')}\")\n",
        "print(f\"recall_score : {metrics.recall_score(y_test,pred_rf,average='weighted')}\")\n",
        "print(f\"f1 : {metrics.f1_score(y_test,pred_rf,average='weighted')}\")"
      ]
    },
    {
      "cell_type": "markdown",
      "metadata": {
        "id": "MW-UHCt-3_e0"
      },
      "source": []
    },
    {
      "cell_type": "markdown",
      "metadata": {
        "id": "zV6Ecp6R4B-F"
      },
      "source": [
        "## DNN Model"
      ]
    },
    {
      "cell_type": "code",
      "execution_count": null,
      "metadata": {
        "id": "ap-MkYSN4B-I",
        "colab": {
          "base_uri": "https://localhost:8080/"
        },
        "outputId": "0ccaffbc-b18c-4b45-eac3-2c2383655501"
      },
      "outputs": [
        {
          "output_type": "stream",
          "name": "stdout",
          "text": [
            "Model: \"model\"\n",
            "_________________________________________________________________\n",
            " Layer (type)                Output Shape              Param #   \n",
            "=================================================================\n",
            " input_1 (InputLayer)        [(None, 784)]             0         \n",
            "                                                                 \n",
            " block_1 (WidNetBlock)       (None, 256)               533248    \n",
            "                                                                 \n",
            " block_2 (WidNetBlock)       (None, 256)               262912    \n",
            "                                                                 \n",
            " out (Dense)                 (None, 10)                2570      \n",
            "                                                                 \n",
            " tf.nn.softmax (TFOpLambda)  (None, 10)                0         \n",
            "                                                                 \n",
            "=================================================================\n",
            "Total params: 798,730\n",
            "Trainable params: 798,730\n",
            "Non-trainable params: 0\n",
            "_________________________________________________________________\n"
          ]
        }
      ],
      "source": [
        "tf.keras.backend.clear_session()\n",
        "class WidNetBlock(tf.keras.layers.Layer):\n",
        "    def __init__(self,units_list=[],dropout_rate_list=[],**kwargs):\n",
        "        super(WidNetBlock,self).__init__(**kwargs)\n",
        "\n",
        "        self.dense_1 = tf.keras.layers.Dense(units=units_list[0],activation=tf.nn.relu)\n",
        "        self.dropout_1 = tf.keras.layers.Dropout(rate= dropout_rate_list[0])\n",
        "        self.dense_2 = tf.keras.layers.Dense(units=units_list[1],activation=tf.nn.relu)\n",
        "        self.dropout_2 = tf.keras.layers.Dropout(rate= dropout_rate_list[1])\n",
        "\n",
        "    def call(self, inputs):\n",
        "        d_1 = self.dense_1(inputs)\n",
        "        d_1_dropout = self.dropout_1(d_1)\n",
        "        d_2 = self.dense_2(d_1_dropout)\n",
        "        d_2_dropout = self.dropout_2(d_2)\n",
        "\n",
        "        return d_2_dropout\n",
        "\n",
        "class DeepWideNet(tf.keras.Model):\n",
        "    def __init__(self):\n",
        "        super(DeepWideNet,self).__init__()\n",
        "        \n",
        "        self.block_1 = WidNetBlock(units_list=[512,256],dropout_rate_list=[0.5,0.4],name='block_1')\n",
        "        self.block_2 = WidNetBlock(units_list=[512,256],dropout_rate_list=[0.4,0.3],name='block_2')\n",
        "        # self.block_3 = WidNetBlock(units_list=[256,512],dropout_rate_list=[0.35,0.25],name='block_3')\n",
        "\n",
        "        self.out = tf.keras.layers.Dense(10,name= 'out')\n",
        "    def call(self,x):\n",
        "        x=self.block_1(x)\n",
        "        x=self.block_2(x)\n",
        "        # x=self.block_3(x)\n",
        "        x=self.out(x)\n",
        "        x=tf.nn.softmax(x)\n",
        "        return x\n",
        "\n",
        "    def build_model(self):\n",
        "        x = tf.keras.layers.Input((784))\n",
        "        return tf.keras.Model(inputs = [x], outputs = [self.call(x)])\n",
        "\n",
        "\n",
        "model_dnn = DeepWideNet()\n",
        "model_dnn.build_model().summary()"
      ]
    },
    {
      "cell_type": "code",
      "source": [
        "tf.keras.utils.plot_model(model_dnn.build_model())"
      ],
      "metadata": {
        "colab": {
          "base_uri": "https://localhost:8080/",
          "height": 466
        },
        "id": "6M2up1PcOCH6",
        "outputId": "de4d5f79-6251-4c55-bd41-365505102bf9"
      },
      "execution_count": null,
      "outputs": [
        {
          "output_type": "execute_result",
          "data": {
            "image/png": "[encoded data removed]",
            "text/plain": [
              "<IPython.core.display.Image object>"
            ]
          },
          "metadata": {},
          "execution_count": 10
        }
      ]
    },
    {
      "cell_type": "code",
      "source": [
        "model_dnn.compile(optimizer= tf.optimizers.Adam(),loss = tf.losses.CategoricalCrossentropy(),metrics=['acc'])"
      ],
      "metadata": {
        "id": "Em8-SDnxNk-B"
      },
      "execution_count": null,
      "outputs": []
    },
    {
      "cell_type": "code",
      "source": [
        "model_dnn.fit(x=x_train_v,y=y_train_hot,epochs= 20, batch_size=32,validation_data=(x_test_v,y_test_hot))"
      ],
      "metadata": {
        "colab": {
          "base_uri": "https://localhost:8080/"
        },
        "id": "uBKmOJFHNoPA",
        "outputId": "8c1ce544-02fb-408e-b416-d3e902445d9f"
      },
      "execution_count": null,
      "outputs": [
        {
          "output_type": "stream",
          "name": "stdout",
          "text": [
            "Epoch 1/20\n",
            "1875/1875 [==============================] - 13s 6ms/step - loss: 0.7062 - acc: 0.7416 - val_loss: 0.4764 - val_acc: 0.8362\n",
            "Epoch 2/20\n",
            "1875/1875 [==============================] - 10s 6ms/step - loss: 0.5376 - acc: 0.8087 - val_loss: 0.4832 - val_acc: 0.8340\n",
            "Epoch 3/20\n",
            "1875/1875 [==============================] - 10s 6ms/step - loss: 0.4964 - acc: 0.8263 - val_loss: 0.4272 - val_acc: 0.8491\n",
            "Epoch 4/20\n",
            "1875/1875 [==============================] - 10s 6ms/step - loss: 0.4819 - acc: 0.8317 - val_loss: 0.4206 - val_acc: 0.8531\n",
            "Epoch 5/20\n",
            "1875/1875 [==============================] - 11s 6ms/step - loss: 0.4638 - acc: 0.8383 - val_loss: 0.4107 - val_acc: 0.8526\n",
            "Epoch 6/20\n",
            "1875/1875 [==============================] - 10s 5ms/step - loss: 0.4548 - acc: 0.8426 - val_loss: 0.4081 - val_acc: 0.8599\n",
            "Epoch 7/20\n",
            "1875/1875 [==============================] - 10s 5ms/step - loss: 0.4447 - acc: 0.8444 - val_loss: 0.4040 - val_acc: 0.8504\n",
            "Epoch 8/20\n",
            "1875/1875 [==============================] - 10s 5ms/step - loss: 0.4382 - acc: 0.8459 - val_loss: 0.3925 - val_acc: 0.8577\n",
            "Epoch 9/20\n",
            "1875/1875 [==============================] - 10s 5ms/step - loss: 0.4366 - acc: 0.8476 - val_loss: 0.3987 - val_acc: 0.8563\n",
            "Epoch 10/20\n",
            "1875/1875 [==============================] - 10s 5ms/step - loss: 0.4323 - acc: 0.8506 - val_loss: 0.3814 - val_acc: 0.8597\n",
            "Epoch 11/20\n",
            "1875/1875 [==============================] - 10s 5ms/step - loss: 0.4264 - acc: 0.8508 - val_loss: 0.4057 - val_acc: 0.8595\n",
            "Epoch 12/20\n",
            "1875/1875 [==============================] - 10s 5ms/step - loss: 0.4196 - acc: 0.8555 - val_loss: 0.3874 - val_acc: 0.8684\n",
            "Epoch 13/20\n",
            "1875/1875 [==============================] - 10s 5ms/step - loss: 0.4225 - acc: 0.8540 - val_loss: 0.3800 - val_acc: 0.8686\n",
            "Epoch 14/20\n",
            "1875/1875 [==============================] - 10s 5ms/step - loss: 0.4133 - acc: 0.8554 - val_loss: 0.3778 - val_acc: 0.8705\n",
            "Epoch 15/20\n",
            "1875/1875 [==============================] - 10s 5ms/step - loss: 0.4129 - acc: 0.8579 - val_loss: 0.3793 - val_acc: 0.8720\n",
            "Epoch 16/20\n",
            "1875/1875 [==============================] - 10s 5ms/step - loss: 0.4156 - acc: 0.8560 - val_loss: 0.3799 - val_acc: 0.8578\n",
            "Epoch 17/20\n",
            "1875/1875 [==============================] - 10s 5ms/step - loss: 0.4109 - acc: 0.8580 - val_loss: 0.3882 - val_acc: 0.8654\n",
            "Epoch 18/20\n",
            "1875/1875 [==============================] - 10s 5ms/step - loss: 0.4087 - acc: 0.8593 - val_loss: 0.3963 - val_acc: 0.8625\n",
            "Epoch 19/20\n",
            "1875/1875 [==============================] - 10s 5ms/step - loss: 0.4051 - acc: 0.8605 - val_loss: 0.3731 - val_acc: 0.8695\n",
            "Epoch 20/20\n",
            "1875/1875 [==============================] - 10s 5ms/step - loss: 0.4028 - acc: 0.8597 - val_loss: 0.3827 - val_acc: 0.8659\n"
          ]
        },
        {
          "output_type": "execute_result",
          "data": {
            "text/plain": [
              "<keras.callbacks.History at 0x7f58903a83d0>"
            ]
          },
          "metadata": {},
          "execution_count": 12
        }
      ]
    },
    {
      "cell_type": "code",
      "source": [
        "pd.DataFrame(model_dnn.history.history).plot()"
      ],
      "metadata": {
        "colab": {
          "base_uri": "https://localhost:8080/"
        },
        "id": "ZIlqM8KndVoe",
        "outputId": "64f543eb-a545-4b33-a413-62b0e9cd6167"
      },
      "execution_count": null,
      "outputs": [
        {
          "output_type": "execute_result",
          "data": {
            "text/plain": [
              "<matplotlib.axes._subplots.AxesSubplot at 0x7f5890369cd0>"
            ]
          },
          "metadata": {},
          "execution_count": 13
        },
        {
          "output_type": "display_data",
          "data": {
            "image/png": "[encoded data removed]",
            "text/plain": [
              "<Figure size 432x288 with 1 Axes>"
            ]
          },
          "metadata": {
            "needs_background": "light"
          }
        }
      ]
    },
    {
      "cell_type": "markdown",
      "metadata": {
        "id": "ddcTuhaE4B-I"
      },
      "source": [
        "### Model evaluation"
      ]
    },
    {
      "cell_type": "code",
      "execution_count": null,
      "metadata": {
        "id": "vc1jZud54B-J"
      },
      "outputs": [],
      "source": [
        "# evaluate the model\n",
        "pred_dnn=model_dnn.predict(x_test_v)\n",
        "pred_dnn = np.argmax(pred_dnn, axis = -1)\n",
        "print(f\"acc : {metrics.accuracy_score(y_test,pred_dnn)}\")\n",
        "print(f\"Precision : {metrics.precision_score(y_test,pred_dnn,average='weighted')}\")\n",
        "print(f\"recall_score : {metrics.recall_score(y_test,pred_dnn,average='weighted')}\")\n",
        "print(f\"f1 : {metrics.f1_score(y_test,pred_dnn,average='weighted')}\")"
      ]
    },
    {
      "cell_type": "markdown",
      "metadata": {
        "id": "BTV-M_z-4B-J"
      },
      "source": [
        "#Result\n"
      ]
    },
    {
      "cell_type": "markdown",
      "source": [
        "The best model is [SVM](https://colab.research.google.com/drive/1vrQFzMW1h8JZXycJarVQDtW_TkQYyWba?authuser=2#scrollTo=uK9Yh08I36DI&line=5&uniqifier=1)"
      ],
      "metadata": {
        "id": "Ek7hAIZCiD7u"
      }
    },
    {
      "cell_type": "code",
      "source": [],
      "metadata": {
        "id": "s4q0MsZwigB1"
      },
      "execution_count": null,
      "outputs": []
    }
  ],
  "metadata": {
    "colab": {
      "provenance": []
    },
    "kernelspec": {
      "display_name": "Python 3",
      "name": "python3"
    },
    "language_info": {
      "name": "python"
    },
    "accelerator": "GPU"
  },
  "nbformat": 4,
  "nbformat_minor": 0
}